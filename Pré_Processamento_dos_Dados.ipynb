{
  "cells": [
    {
      "cell_type": "markdown",
      "metadata": {
        "id": "view-in-github",
        "colab_type": "text"
      },
      "source": [
        "<a href=\"https://colab.research.google.com/github/arthurcarvalhoc/bach_choral_harmony_eda/blob/main/Pr%C3%A9_Processamento_dos_Dados.ipynb\" target=\"_parent\"><img src=\"https://colab.research.google.com/assets/colab-badge.svg\" alt=\"Open In Colab\"/></a>"
      ]
    },
    {
      "cell_type": "markdown",
      "id": "ee87bef4",
      "metadata": {
        "id": "ee87bef4"
      },
      "source": [
        "## Pré-Processamento dos Dados\n",
        "Grupo:\n",
        "- Rafael de Lima Pacheco Silva\n",
        "- Carlos André Batista\n",
        "- Arthur Carvalho"
      ]
    },
    {
      "cell_type": "code",
      "execution_count": 1,
      "id": "EJU-M-PAxRg6",
      "metadata": {
        "colab": {
          "base_uri": "https://localhost:8080/"
        },
        "id": "EJU-M-PAxRg6",
        "outputId": "724ecc4b-1576-4b9c-cb5c-8f96f9c2fe0a"
      },
      "outputs": [
        {
          "output_type": "stream",
          "name": "stdout",
          "text": [
            "rm: cannot remove 'jsbach*.*': No such file or directory\n",
            "--2022-10-21 21:39:20--  https://archive.ics.uci.edu/ml/machine-learning-databases/00298/jsbach_chorals_harmony.zip\n",
            "Resolving archive.ics.uci.edu (archive.ics.uci.edu)... 128.195.10.252\n",
            "Connecting to archive.ics.uci.edu (archive.ics.uci.edu)|128.195.10.252|:443... connected.\n",
            "HTTP request sent, awaiting response... 200 OK\n",
            "Length: 42966 (42K) [application/x-httpd-php]\n",
            "Saving to: ‘jsbach_chorals_harmony.zip’\n",
            "\n",
            "jsbach_chorals_harm 100%[===================>]  41.96K  --.-KB/s    in 0.1s    \n",
            "\n",
            "2022-10-21 21:39:20 (297 KB/s) - ‘jsbach_chorals_harmony.zip’ saved [42966/42966]\n",
            "\n",
            "Archive:  jsbach_chorals_harmony.zip\n",
            "  inflating: jsbach_chorals_harmony.data  \n",
            "   creating: __MACOSX/\n",
            "  inflating: __MACOSX/._jsbach_chorals_harmony.data  \n",
            "  inflating: jsbach_chorals_harmony.names  \n"
          ]
        }
      ],
      "source": [
        "!rm jsbach*.*\n",
        "!wget https://archive.ics.uci.edu/ml/machine-learning-databases/00298/jsbach_chorals_harmony.zip\n",
        "!unzip -o *.zip "
      ]
    },
    {
      "cell_type": "code",
      "execution_count": 2,
      "id": "BmJV2zDNxmu9",
      "metadata": {
        "colab": {
          "base_uri": "https://localhost:8080/"
        },
        "id": "BmJV2zDNxmu9",
        "outputId": "1264e743-1efd-4aae-a10b-b82cd4d8a7ff"
      },
      "outputs": [
        {
          "output_type": "stream",
          "name": "stdout",
          "text": [
            "Looking in indexes: https://pypi.org/simple, https://us-python.pkg.dev/colab-wheels/public/simple/\n",
            "Requirement already satisfied: pandas in /usr/local/lib/python3.7/dist-packages (1.3.5)\n",
            "Requirement already satisfied: numpy in /usr/local/lib/python3.7/dist-packages (1.21.6)\n",
            "Collecting sklearn\n",
            "  Downloading sklearn-0.0.tar.gz (1.1 kB)\n",
            "Requirement already satisfied: matplotlib in /usr/local/lib/python3.7/dist-packages (3.2.2)\n",
            "Requirement already satisfied: python-dateutil>=2.7.3 in /usr/local/lib/python3.7/dist-packages (from pandas) (2.8.2)\n",
            "Requirement already satisfied: pytz>=2017.3 in /usr/local/lib/python3.7/dist-packages (from pandas) (2022.4)\n",
            "Requirement already satisfied: six>=1.5 in /usr/local/lib/python3.7/dist-packages (from python-dateutil>=2.7.3->pandas) (1.15.0)\n",
            "Requirement already satisfied: scikit-learn in /usr/local/lib/python3.7/dist-packages (from sklearn) (1.0.2)\n",
            "Requirement already satisfied: cycler>=0.10 in /usr/local/lib/python3.7/dist-packages (from matplotlib) (0.11.0)\n",
            "Requirement already satisfied: kiwisolver>=1.0.1 in /usr/local/lib/python3.7/dist-packages (from matplotlib) (1.4.4)\n",
            "Requirement already satisfied: pyparsing!=2.0.4,!=2.1.2,!=2.1.6,>=2.0.1 in /usr/local/lib/python3.7/dist-packages (from matplotlib) (3.0.9)\n",
            "Requirement already satisfied: typing-extensions in /usr/local/lib/python3.7/dist-packages (from kiwisolver>=1.0.1->matplotlib) (4.1.1)\n",
            "Requirement already satisfied: joblib>=0.11 in /usr/local/lib/python3.7/dist-packages (from scikit-learn->sklearn) (1.2.0)\n",
            "Requirement already satisfied: threadpoolctl>=2.0.0 in /usr/local/lib/python3.7/dist-packages (from scikit-learn->sklearn) (3.1.0)\n",
            "Requirement already satisfied: scipy>=1.1.0 in /usr/local/lib/python3.7/dist-packages (from scikit-learn->sklearn) (1.7.3)\n",
            "Building wheels for collected packages: sklearn\n",
            "  Building wheel for sklearn (setup.py) ... \u001b[?25l\u001b[?25hdone\n",
            "  Created wheel for sklearn: filename=sklearn-0.0-py2.py3-none-any.whl size=1310 sha256=97fc522b1a4629195f00a088543593fbd029ffad3e302b9ad4cdd876bb553d04\n",
            "  Stored in directory: /root/.cache/pip/wheels/46/ef/c3/157e41f5ee1372d1be90b09f74f82b10e391eaacca8f22d33e\n",
            "Successfully built sklearn\n",
            "Installing collected packages: sklearn\n",
            "Successfully installed sklearn-0.0\n"
          ]
        }
      ],
      "source": [
        "!pip install pandas numpy sklearn sklearn matplotlib"
      ]
    },
    {
      "cell_type": "markdown",
      "id": "7b3e83ef",
      "metadata": {
        "id": "7b3e83ef"
      },
      "source": [
        "## Informações do Dataset\n",
        "Dataset e suas informações extraídos de:\n",
        "https://archive.ics.uci.edu/ml/datasets/Bach+Choral+Harmony\n",
        "\n",
        "***\n",
        "Attribute Information:\n",
        "1. Choral ID: corresponding to the file names from (Bach Central).\n",
        "2. Event number: index (starting from 1) of the event inside the chorale.\n",
        "\n",
        "3-14. Pitch classes: YES/NO depending on whether a given pitch is present.\n",
        "Pitch classes/attribute correspondence is as follows:\n",
        "C -> 3\n",
        "C#/Db -> 4\n",
        "D -> 5\n",
        "...\n",
        "B -> 14\n",
        "\n",
        "15. Bass: Pitch class of the bass note\n",
        "16. Meter: integers from 1 to 5. Lower numbers denote less accented events,higher numbers denote more accented events.\n",
        "17. Chord label: Chord resonating during the given event. \n",
        "***"
      ]
    },
    {
      "cell_type": "code",
      "execution_count": 3,
      "id": "6592bf8c",
      "metadata": {
        "id": "6592bf8c"
      },
      "outputs": [],
      "source": [
        "import pandas as pd\n",
        "import numpy as np\n",
        "import matplotlib.pyplot as plt\n",
        "import seaborn as sns\n",
        "\n",
        "from matplotlib import rcParams\n",
        "from sklearn.preprocessing import OrdinalEncoder,OneHotEncoder\n",
        "\n",
        "plt.style.use(\"ggplot\")\n",
        "rcParams['figure.figsize'] = (12,  6)"
      ]
    },
    {
      "cell_type": "markdown",
      "id": "2378eafe",
      "metadata": {
        "id": "2378eafe"
      },
      "source": [
        "## Visão Geral do Dataset"
      ]
    },
    {
      "cell_type": "code",
      "execution_count": 4,
      "id": "3bc61ca7",
      "metadata": {
        "id": "3bc61ca7"
      },
      "outputs": [],
      "source": [
        "column_names = ['choral_id','event_number','C','C#/Db','D','D#/Eb','E','F','F#/Gb','G','G#/Ab','A','A#/Bb','B','bass_pitch','meter','label']\n",
        "feature_cols = ['C','C#/Db','D','D#/Eb','E','F','F#/Gb','G','G#/Ab','A','A#/Bb','B','bass_pitch','meter']"
      ]
    },
    {
      "cell_type": "code",
      "execution_count": 5,
      "id": "9e34b74b",
      "metadata": {
        "id": "9e34b74b"
      },
      "outputs": [],
      "source": [
        "df = pd.read_csv(\"jsbach_chorals_harmony.data\",header=None,names=column_names)"
      ]
    },
    {
      "cell_type": "code",
      "execution_count": 6,
      "id": "486b7edd",
      "metadata": {
        "colab": {
          "base_uri": "https://localhost:8080/",
          "height": 270
        },
        "id": "486b7edd",
        "outputId": "cdf31364-03ab-4a66-ff44-8f55515889b1"
      },
      "outputs": [
        {
          "output_type": "execute_result",
          "data": {
            "text/plain": [
              "  choral_id  event_number    C C#/Db    D D#/Eb    E    F F#/Gb    G G#/Ab  \\\n",
              "0  000106b_             1  YES    NO   NO    NO   NO  YES    NO   NO    NO   \n",
              "1  000106b_             2  YES    NO   NO    NO  YES   NO    NO  YES    NO   \n",
              "2  000106b_             3  YES    NO   NO    NO  YES   NO    NO  YES    NO   \n",
              "3  000106b_             4  YES    NO   NO    NO   NO  YES    NO   NO    NO   \n",
              "4  000106b_             5  YES    NO   NO    NO   NO  YES    NO   NO    NO   \n",
              "\n",
              "     A A#/Bb    B bass_pitch  meter label  \n",
              "0  YES    NO   NO          F      3   F_M  \n",
              "1   NO    NO   NO          E      5   C_M  \n",
              "2   NO    NO   NO          E      2   C_M  \n",
              "3  YES    NO   NO          F      3   F_M  \n",
              "4  YES    NO   NO          F      2   F_M  "
            ],
            "text/html": [
              "\n",
              "  <div id=\"df-c92d9e44-a17b-4028-96a4-10c63b219b50\">\n",
              "    <div class=\"colab-df-container\">\n",
              "      <div>\n",
              "<style scoped>\n",
              "    .dataframe tbody tr th:only-of-type {\n",
              "        vertical-align: middle;\n",
              "    }\n",
              "\n",
              "    .dataframe tbody tr th {\n",
              "        vertical-align: top;\n",
              "    }\n",
              "\n",
              "    .dataframe thead th {\n",
              "        text-align: right;\n",
              "    }\n",
              "</style>\n",
              "<table border=\"1\" class=\"dataframe\">\n",
              "  <thead>\n",
              "    <tr style=\"text-align: right;\">\n",
              "      <th></th>\n",
              "      <th>choral_id</th>\n",
              "      <th>event_number</th>\n",
              "      <th>C</th>\n",
              "      <th>C#/Db</th>\n",
              "      <th>D</th>\n",
              "      <th>D#/Eb</th>\n",
              "      <th>E</th>\n",
              "      <th>F</th>\n",
              "      <th>F#/Gb</th>\n",
              "      <th>G</th>\n",
              "      <th>G#/Ab</th>\n",
              "      <th>A</th>\n",
              "      <th>A#/Bb</th>\n",
              "      <th>B</th>\n",
              "      <th>bass_pitch</th>\n",
              "      <th>meter</th>\n",
              "      <th>label</th>\n",
              "    </tr>\n",
              "  </thead>\n",
              "  <tbody>\n",
              "    <tr>\n",
              "      <th>0</th>\n",
              "      <td>000106b_</td>\n",
              "      <td>1</td>\n",
              "      <td>YES</td>\n",
              "      <td>NO</td>\n",
              "      <td>NO</td>\n",
              "      <td>NO</td>\n",
              "      <td>NO</td>\n",
              "      <td>YES</td>\n",
              "      <td>NO</td>\n",
              "      <td>NO</td>\n",
              "      <td>NO</td>\n",
              "      <td>YES</td>\n",
              "      <td>NO</td>\n",
              "      <td>NO</td>\n",
              "      <td>F</td>\n",
              "      <td>3</td>\n",
              "      <td>F_M</td>\n",
              "    </tr>\n",
              "    <tr>\n",
              "      <th>1</th>\n",
              "      <td>000106b_</td>\n",
              "      <td>2</td>\n",
              "      <td>YES</td>\n",
              "      <td>NO</td>\n",
              "      <td>NO</td>\n",
              "      <td>NO</td>\n",
              "      <td>YES</td>\n",
              "      <td>NO</td>\n",
              "      <td>NO</td>\n",
              "      <td>YES</td>\n",
              "      <td>NO</td>\n",
              "      <td>NO</td>\n",
              "      <td>NO</td>\n",
              "      <td>NO</td>\n",
              "      <td>E</td>\n",
              "      <td>5</td>\n",
              "      <td>C_M</td>\n",
              "    </tr>\n",
              "    <tr>\n",
              "      <th>2</th>\n",
              "      <td>000106b_</td>\n",
              "      <td>3</td>\n",
              "      <td>YES</td>\n",
              "      <td>NO</td>\n",
              "      <td>NO</td>\n",
              "      <td>NO</td>\n",
              "      <td>YES</td>\n",
              "      <td>NO</td>\n",
              "      <td>NO</td>\n",
              "      <td>YES</td>\n",
              "      <td>NO</td>\n",
              "      <td>NO</td>\n",
              "      <td>NO</td>\n",
              "      <td>NO</td>\n",
              "      <td>E</td>\n",
              "      <td>2</td>\n",
              "      <td>C_M</td>\n",
              "    </tr>\n",
              "    <tr>\n",
              "      <th>3</th>\n",
              "      <td>000106b_</td>\n",
              "      <td>4</td>\n",
              "      <td>YES</td>\n",
              "      <td>NO</td>\n",
              "      <td>NO</td>\n",
              "      <td>NO</td>\n",
              "      <td>NO</td>\n",
              "      <td>YES</td>\n",
              "      <td>NO</td>\n",
              "      <td>NO</td>\n",
              "      <td>NO</td>\n",
              "      <td>YES</td>\n",
              "      <td>NO</td>\n",
              "      <td>NO</td>\n",
              "      <td>F</td>\n",
              "      <td>3</td>\n",
              "      <td>F_M</td>\n",
              "    </tr>\n",
              "    <tr>\n",
              "      <th>4</th>\n",
              "      <td>000106b_</td>\n",
              "      <td>5</td>\n",
              "      <td>YES</td>\n",
              "      <td>NO</td>\n",
              "      <td>NO</td>\n",
              "      <td>NO</td>\n",
              "      <td>NO</td>\n",
              "      <td>YES</td>\n",
              "      <td>NO</td>\n",
              "      <td>NO</td>\n",
              "      <td>NO</td>\n",
              "      <td>YES</td>\n",
              "      <td>NO</td>\n",
              "      <td>NO</td>\n",
              "      <td>F</td>\n",
              "      <td>2</td>\n",
              "      <td>F_M</td>\n",
              "    </tr>\n",
              "  </tbody>\n",
              "</table>\n",
              "</div>\n",
              "      <button class=\"colab-df-convert\" onclick=\"convertToInteractive('df-c92d9e44-a17b-4028-96a4-10c63b219b50')\"\n",
              "              title=\"Convert this dataframe to an interactive table.\"\n",
              "              style=\"display:none;\">\n",
              "        \n",
              "  <svg xmlns=\"http://www.w3.org/2000/svg\" height=\"24px\"viewBox=\"0 0 24 24\"\n",
              "       width=\"24px\">\n",
              "    <path d=\"M0 0h24v24H0V0z\" fill=\"none\"/>\n",
              "    <path d=\"M18.56 5.44l.94 2.06.94-2.06 2.06-.94-2.06-.94-.94-2.06-.94 2.06-2.06.94zm-11 1L8.5 8.5l.94-2.06 2.06-.94-2.06-.94L8.5 2.5l-.94 2.06-2.06.94zm10 10l.94 2.06.94-2.06 2.06-.94-2.06-.94-.94-2.06-.94 2.06-2.06.94z\"/><path d=\"M17.41 7.96l-1.37-1.37c-.4-.4-.92-.59-1.43-.59-.52 0-1.04.2-1.43.59L10.3 9.45l-7.72 7.72c-.78.78-.78 2.05 0 2.83L4 21.41c.39.39.9.59 1.41.59.51 0 1.02-.2 1.41-.59l7.78-7.78 2.81-2.81c.8-.78.8-2.07 0-2.86zM5.41 20L4 18.59l7.72-7.72 1.47 1.35L5.41 20z\"/>\n",
              "  </svg>\n",
              "      </button>\n",
              "      \n",
              "  <style>\n",
              "    .colab-df-container {\n",
              "      display:flex;\n",
              "      flex-wrap:wrap;\n",
              "      gap: 12px;\n",
              "    }\n",
              "\n",
              "    .colab-df-convert {\n",
              "      background-color: #E8F0FE;\n",
              "      border: none;\n",
              "      border-radius: 50%;\n",
              "      cursor: pointer;\n",
              "      display: none;\n",
              "      fill: #1967D2;\n",
              "      height: 32px;\n",
              "      padding: 0 0 0 0;\n",
              "      width: 32px;\n",
              "    }\n",
              "\n",
              "    .colab-df-convert:hover {\n",
              "      background-color: #E2EBFA;\n",
              "      box-shadow: 0px 1px 2px rgba(60, 64, 67, 0.3), 0px 1px 3px 1px rgba(60, 64, 67, 0.15);\n",
              "      fill: #174EA6;\n",
              "    }\n",
              "\n",
              "    [theme=dark] .colab-df-convert {\n",
              "      background-color: #3B4455;\n",
              "      fill: #D2E3FC;\n",
              "    }\n",
              "\n",
              "    [theme=dark] .colab-df-convert:hover {\n",
              "      background-color: #434B5C;\n",
              "      box-shadow: 0px 1px 3px 1px rgba(0, 0, 0, 0.15);\n",
              "      filter: drop-shadow(0px 1px 2px rgba(0, 0, 0, 0.3));\n",
              "      fill: #FFFFFF;\n",
              "    }\n",
              "  </style>\n",
              "\n",
              "      <script>\n",
              "        const buttonEl =\n",
              "          document.querySelector('#df-c92d9e44-a17b-4028-96a4-10c63b219b50 button.colab-df-convert');\n",
              "        buttonEl.style.display =\n",
              "          google.colab.kernel.accessAllowed ? 'block' : 'none';\n",
              "\n",
              "        async function convertToInteractive(key) {\n",
              "          const element = document.querySelector('#df-c92d9e44-a17b-4028-96a4-10c63b219b50');\n",
              "          const dataTable =\n",
              "            await google.colab.kernel.invokeFunction('convertToInteractive',\n",
              "                                                     [key], {});\n",
              "          if (!dataTable) return;\n",
              "\n",
              "          const docLinkHtml = 'Like what you see? Visit the ' +\n",
              "            '<a target=\"_blank\" href=https://colab.research.google.com/notebooks/data_table.ipynb>data table notebook</a>'\n",
              "            + ' to learn more about interactive tables.';\n",
              "          element.innerHTML = '';\n",
              "          dataTable['output_type'] = 'display_data';\n",
              "          await google.colab.output.renderOutput(dataTable, element);\n",
              "          const docLink = document.createElement('div');\n",
              "          docLink.innerHTML = docLinkHtml;\n",
              "          element.appendChild(docLink);\n",
              "        }\n",
              "      </script>\n",
              "    </div>\n",
              "  </div>\n",
              "  "
            ]
          },
          "metadata": {},
          "execution_count": 6
        }
      ],
      "source": [
        "df.head()"
      ]
    },
    {
      "cell_type": "markdown",
      "id": "de050c5e",
      "metadata": {
        "id": "de050c5e"
      },
      "source": [
        "O dataset não possui dados duplicados ou dados faltantes:"
      ]
    },
    {
      "cell_type": "code",
      "execution_count": 7,
      "id": "72a4a931",
      "metadata": {
        "colab": {
          "base_uri": "https://localhost:8080/"
        },
        "id": "72a4a931",
        "outputId": "db49ad77-c119-487d-b0db-621890dbcd53"
      },
      "outputs": [
        {
          "output_type": "execute_result",
          "data": {
            "text/plain": [
              "0"
            ]
          },
          "metadata": {},
          "execution_count": 7
        }
      ],
      "source": [
        "df.duplicated().sum()"
      ]
    },
    {
      "cell_type": "code",
      "execution_count": 8,
      "id": "495b42c7",
      "metadata": {
        "colab": {
          "base_uri": "https://localhost:8080/"
        },
        "id": "495b42c7",
        "outputId": "c3e3199f-fe97-44dc-9f8f-38c739466a28"
      },
      "outputs": [
        {
          "output_type": "stream",
          "name": "stdout",
          "text": [
            "<class 'pandas.core.frame.DataFrame'>\n",
            "RangeIndex: 5665 entries, 0 to 5664\n",
            "Data columns (total 17 columns):\n",
            " #   Column        Non-Null Count  Dtype \n",
            "---  ------        --------------  ----- \n",
            " 0   choral_id     5665 non-null   object\n",
            " 1   event_number  5665 non-null   int64 \n",
            " 2   C             5665 non-null   object\n",
            " 3   C#/Db         5665 non-null   object\n",
            " 4   D             5665 non-null   object\n",
            " 5   D#/Eb         5665 non-null   object\n",
            " 6   E             5665 non-null   object\n",
            " 7   F             5665 non-null   object\n",
            " 8   F#/Gb         5665 non-null   object\n",
            " 9   G             5665 non-null   object\n",
            " 10  G#/Ab         5665 non-null   object\n",
            " 11  A             5665 non-null   object\n",
            " 12  A#/Bb         5665 non-null   object\n",
            " 13  B             5665 non-null   object\n",
            " 14  bass_pitch    5665 non-null   object\n",
            " 15  meter         5665 non-null   int64 \n",
            " 16  label         5665 non-null   object\n",
            "dtypes: int64(2), object(15)\n",
            "memory usage: 752.5+ KB\n"
          ]
        }
      ],
      "source": [
        "df.info()"
      ]
    },
    {
      "cell_type": "markdown",
      "id": "fb294735",
      "metadata": {
        "id": "fb294735"
      },
      "source": [
        "## Transformação dos labels e feature bass_pitch"
      ]
    },
    {
      "cell_type": "markdown",
      "id": "f73d36ba",
      "metadata": {
        "id": "f73d36ba"
      },
      "source": [
        "Alguns eventos dos corais utilizam a notação sustenido(#) e outros utilizam a notação bemol(b). Isso acontece na feature `bass_pitch` e no `label` que representa o acorde a ser determinado. Por exemplo:\n",
        "\n",
        "Os acordes C# e Db representam o mesmo acorde, porém há incidência das duas formas no dataset. Isso nos leva a uniformizar a representação. Assim, todos os acordes com representação bemol serão substituídos por sua representação com sustenido."
      ]
    },
    {
      "cell_type": "code",
      "execution_count": 9,
      "id": "897fafe4",
      "metadata": {
        "colab": {
          "base_uri": "https://localhost:8080/"
        },
        "id": "897fafe4",
        "outputId": "b3ec1fbd-7af6-4699-f002-cfde72bdeda7"
      },
      "outputs": [
        {
          "output_type": "stream",
          "name": "stdout",
          "text": [
            "Valores com bemol na coluna bass_pitch: ['Bb' 'Eb' 'Ab' 'Db']\n",
            "Total de valores antes da modificação na coluna bass_pitch: 16\n"
          ]
        }
      ],
      "source": [
        "print(f\"Valores com bemol na coluna bass_pitch: {df[df.bass_pitch.str.contains('b')].bass_pitch.unique()}\")\n",
        "print(f\"Total de valores antes da modificação na coluna bass_pitch: {df.bass_pitch.nunique()}\")"
      ]
    },
    {
      "cell_type": "code",
      "execution_count": 10,
      "id": "2a96c76d",
      "metadata": {
        "colab": {
          "base_uri": "https://localhost:8080/"
        },
        "id": "2a96c76d",
        "outputId": "b061aa06-fa28-4230-d1e5-88481bd84bc0"
      },
      "outputs": [
        {
          "output_type": "stream",
          "name": "stdout",
          "text": [
            "Valores com bemol na coluna label: [' BbM' ' AbM' ' EbM' ' EbM7' ' Bbm' ' Bbm6' ' DbM' ' Abd' ' Ebd' ' Dbd7'\n",
            " ' Dbd' ' Bbd' ' Dbm7' ' Abm' ' DbM7' ' Dbm' ' BbM7']\n",
            "Total de valores antes da modificação na coluna label: 102\n"
          ]
        }
      ],
      "source": [
        "print(f\"Valores com bemol na coluna label: {df[df.label.str.contains('b')].label.unique()}\")\n",
        "print(f\"Total de valores antes da modificação na coluna label: {df.label.nunique()}\")"
      ]
    },
    {
      "cell_type": "code",
      "execution_count": 11,
      "id": "5b1bc903",
      "metadata": {
        "id": "5b1bc903"
      },
      "outputs": [],
      "source": [
        "def replace_bemol(chord):\n",
        "    dict_replace = {\n",
        "        'Bb': 'A#',\n",
        "        'Eb': 'D#',\n",
        "        'Ab': 'G#',\n",
        "        'Db': 'C#'\n",
        "    }\n",
        "    \n",
        "    keys = list(dict_replace.keys())\n",
        "    exists = [key in chord for key in keys]\n",
        "    \n",
        "    try:\n",
        "        idx = exists.index(True)\n",
        "    except:\n",
        "        return chord\n",
        "\n",
        "    return chord.replace(keys[idx],dict_replace[keys[idx]])"
      ]
    },
    {
      "cell_type": "code",
      "execution_count": 12,
      "id": "2b30fb24",
      "metadata": {
        "id": "2b30fb24"
      },
      "outputs": [],
      "source": [
        "df['bass_pitch'] = df['bass_pitch'].apply(replace_bemol)\n",
        "df['label'] = df['label'].apply(replace_bemol)"
      ]
    },
    {
      "cell_type": "code",
      "execution_count": 13,
      "id": "88d4fc39",
      "metadata": {
        "colab": {
          "base_uri": "https://localhost:8080/"
        },
        "id": "88d4fc39",
        "outputId": "d4da11ae-fb6e-4c46-b953-3a2eba461935"
      },
      "outputs": [
        {
          "output_type": "execute_result",
          "data": {
            "text/plain": [
              "array(['F', 'E', 'D', 'A', 'A#', 'C', 'G', 'B', 'F#', 'C#', 'D#', 'G#'],\n",
              "      dtype=object)"
            ]
          },
          "metadata": {},
          "execution_count": 13
        }
      ],
      "source": [
        "df.bass_pitch.unique()"
      ]
    },
    {
      "cell_type": "code",
      "execution_count": 14,
      "id": "26770027",
      "metadata": {
        "colab": {
          "base_uri": "https://localhost:8080/"
        },
        "id": "26770027",
        "outputId": "6b5d1bbe-5fcc-4272-d6e2-68da4eaf05c2"
      },
      "outputs": [
        {
          "output_type": "execute_result",
          "data": {
            "text/plain": [
              "array([' F_M', ' C_M', ' D_m', ' A#M', ' C_M7', ' D_m7', ' G_M', ' A_m',\n",
              "       ' C_M4', ' G_m', ' G_M7', ' D_M', ' F#d', ' G#M', ' C#d7', ' D_M7',\n",
              "       ' A_M', ' D#M', ' F_M7', ' C_m', ' A_M4', ' F#m', ' B_M', ' E_M',\n",
              "       ' D#d', ' C#M', ' F#m7', ' A#d', ' B_m', ' E_M7', ' E_m', ' F#M',\n",
              "       ' F#M7', ' B_M7', ' A_m6', ' C#d', ' A_m7', ' A_d', ' C_m7',\n",
              "       ' G_m6', ' D_M4', ' G_m7', ' E_m7', ' E_m6', ' A_M7', ' C#m',\n",
              "       ' C#M7', ' A#d7', ' D#M7', ' B_m7', ' E_M4', ' C#m7', ' F_M4',\n",
              "       ' D_m6', ' G#d', ' G#d7', ' A_m4', ' D_M6', ' F_d', ' B_m6',\n",
              "       ' B_M4', ' C_m6', ' F_m', ' G_M4', ' F_m7', ' C_d6', ' F_m6',\n",
              "       ' G_M6', ' A_M6', ' F_M6', ' F#M4', ' B_d7', ' D_d7', ' E_d',\n",
              "       ' A#m', ' A#m6', ' C_d7', ' F#d7', ' G#m', ' F#m6', ' B_d',\n",
              "       ' C_M6', ' D#m', ' A#M7', ' F_d7', ' C#d6', ' G_d', ' C#M4',\n",
              "       ' D#d6', ' D#d7'], dtype=object)"
            ]
          },
          "metadata": {},
          "execution_count": 14
        }
      ],
      "source": [
        "df.label.unique()"
      ]
    },
    {
      "cell_type": "code",
      "execution_count": 15,
      "id": "be9710ba",
      "metadata": {
        "colab": {
          "base_uri": "https://localhost:8080/"
        },
        "id": "be9710ba",
        "outputId": "9e097142-9ed7-4b4c-a314-c40da70c4b04"
      },
      "outputs": [
        {
          "output_type": "stream",
          "name": "stdout",
          "text": [
            "Total de valores após a modificação na coluna bass_pitch: 12\n"
          ]
        }
      ],
      "source": [
        "print(f\"Total de valores após a modificação na coluna bass_pitch: {df.bass_pitch.nunique()}\")"
      ]
    },
    {
      "cell_type": "code",
      "execution_count": 16,
      "id": "304639a4",
      "metadata": {
        "colab": {
          "base_uri": "https://localhost:8080/"
        },
        "id": "304639a4",
        "outputId": "98a2ed50-66ff-49b5-a586-c145a1d7eae0"
      },
      "outputs": [
        {
          "output_type": "stream",
          "name": "stdout",
          "text": [
            "Total de valores após a modificação na coluna label: 90\n"
          ]
        }
      ],
      "source": [
        "print(f\"Total de valores após a modificação na coluna label: {df.label.nunique()}\")"
      ]
    },
    {
      "cell_type": "markdown",
      "id": "f7a85891",
      "metadata": {
        "id": "f7a85891"
      },
      "source": [
        "- Após a modificação dos labels, ocorreu a redução do total de classes possíveis de 102 para 90.\n",
        "- Após a modificação no bass_pitch, ocorreu a redução de 16 possíveis valores para 12 valores."
      ]
    },
    {
      "cell_type": "code",
      "execution_count": 17,
      "id": "9b03302c",
      "metadata": {
        "colab": {
          "base_uri": "https://localhost:8080/",
          "height": 402
        },
        "id": "9b03302c",
        "outputId": "dc21d99b-36ea-497b-b108-45105f5fad04"
      },
      "outputs": [
        {
          "output_type": "display_data",
          "data": {
            "text/plain": [
              "<Figure size 864x432 with 1 Axes>"
            ],
            "image/png": "[encoded data removed]"
          },
          "metadata": {}
        }
      ],
      "source": [
        "df.label.value_counts().plot(kind=\"bar\")\n",
        "plt.title(\"Frequência dos valores do label\")\n",
        "plt.xlabel(\"Label\")\n",
        "plt.xticks(rotation=90)\n",
        "plt.ylabel(\"Count\")\n",
        "plt.show()"
      ]
    },
    {
      "cell_type": "markdown",
      "id": "6545d04c",
      "metadata": {
        "id": "6545d04c"
      },
      "source": [
        "## Encoding das Features e do Label"
      ]
    },
    {
      "cell_type": "markdown",
      "id": "5ea661c1",
      "metadata": {
        "id": "5ea661c1"
      },
      "source": [
        "Serão criados dois apresentandos a mesma informação com transformações distintas:\n",
        "\n",
        "1. As features e o label, que possuíam valores categóricos, serão convertidos atraves do [OrdinalEncoder] (https://scikit-learn.org/stable/modules/generated/sklearn.preprocessing.OrdinalEncoder.html) da biblioteca Scikit-Learn. \n",
        "\n",
        "Esse dataset será utilizado em modelos baseados em árvore.\n",
        "\n",
        "**É importante frisar que os labels são categóricos, e os valores convertidos não representam uma ordenação seguindo algum critério.**\n",
        "\n",
        "- Para as features de frequência (YES|NO), os dados serão convertidos em valores binários 1 e 0\n",
        "- Para a feature bass_pitch será atribuido um valor ordinal para cada uma dos 12 possíveis valores\n",
        "- A feature meter mudará de escala de 1-5 para 0-4.\n",
        "- Será feito um encoding do target para um valor ordinal para cada um dos 90 possíveis valores.\n",
        "\n",
        "2. Nesse dataset a feature bass_pitch e o label serão transformados com OneHotEncoder para os outros tipos de modelo."
      ]
    },
    {
      "cell_type": "code",
      "execution_count": 18,
      "id": "0c1f63c7",
      "metadata": {
        "id": "0c1f63c7"
      },
      "outputs": [],
      "source": [
        "encoder = OrdinalEncoder()"
      ]
    },
    {
      "cell_type": "code",
      "execution_count": 19,
      "id": "8667416f",
      "metadata": {
        "id": "8667416f"
      },
      "outputs": [],
      "source": [
        "ordinal_encoded_df = pd.DataFrame(encoder.fit_transform(df.drop(columns=['choral_id','event_number'])),columns=feature_cols+['label'])"
      ]
    },
    {
      "cell_type": "code",
      "execution_count": 20,
      "id": "ea0d0553",
      "metadata": {
        "colab": {
          "base_uri": "https://localhost:8080/",
          "height": 270
        },
        "id": "ea0d0553",
        "outputId": "b00915ea-adf0-4af3-d358-de58ac926af8"
      },
      "outputs": [
        {
          "output_type": "execute_result",
          "data": {
            "text/plain": [
              "     C  C#/Db    D  D#/Eb    E    F  F#/Gb    G  G#/Ab    A  A#/Bb    B  \\\n",
              "0  1.0    0.0  0.0    0.0  0.0  1.0    0.0  0.0    0.0  1.0    0.0  0.0   \n",
              "1  1.0    0.0  0.0    0.0  1.0  0.0    0.0  1.0    0.0  0.0    0.0  0.0   \n",
              "2  1.0    0.0  0.0    0.0  1.0  0.0    0.0  1.0    0.0  0.0    0.0  0.0   \n",
              "3  1.0    0.0  0.0    0.0  0.0  1.0    0.0  0.0    0.0  1.0    0.0  0.0   \n",
              "4  1.0    0.0  0.0    0.0  0.0  1.0    0.0  0.0    0.0  1.0    0.0  0.0   \n",
              "\n",
              "   bass_pitch  meter  label  \n",
              "0         8.0    2.0   69.0  \n",
              "1         7.0    4.0   31.0  \n",
              "2         7.0    1.0   31.0  \n",
              "3         8.0    2.0   69.0  \n",
              "4         8.0    1.0   69.0  "
            ],
            "text/html": [
              "\n",
              "  <div id=\"df-6854736a-ed2a-4d71-a4fc-bbd071013ca5\">\n",
              "    <div class=\"colab-df-container\">\n",
              "      <div>\n",
              "<style scoped>\n",
              "    .dataframe tbody tr th:only-of-type {\n",
              "        vertical-align: middle;\n",
              "    }\n",
              "\n",
              "    .dataframe tbody tr th {\n",
              "        vertical-align: top;\n",
              "    }\n",
              "\n",
              "    .dataframe thead th {\n",
              "        text-align: right;\n",
              "    }\n",
              "</style>\n",
              "<table border=\"1\" class=\"dataframe\">\n",
              "  <thead>\n",
              "    <tr style=\"text-align: right;\">\n",
              "      <th></th>\n",
              "      <th>C</th>\n",
              "      <th>C#/Db</th>\n",
              "      <th>D</th>\n",
              "      <th>D#/Eb</th>\n",
              "      <th>E</th>\n",
              "      <th>F</th>\n",
              "      <th>F#/Gb</th>\n",
              "      <th>G</th>\n",
              "      <th>G#/Ab</th>\n",
              "      <th>A</th>\n",
              "      <th>A#/Bb</th>\n",
              "      <th>B</th>\n",
              "      <th>bass_pitch</th>\n",
              "      <th>meter</th>\n",
              "      <th>label</th>\n",
              "    </tr>\n",
              "  </thead>\n",
              "  <tbody>\n",
              "    <tr>\n",
              "      <th>0</th>\n",
              "      <td>1.0</td>\n",
              "      <td>0.0</td>\n",
              "      <td>0.0</td>\n",
              "      <td>0.0</td>\n",
              "      <td>0.0</td>\n",
              "      <td>1.0</td>\n",
              "      <td>0.0</td>\n",
              "      <td>0.0</td>\n",
              "      <td>0.0</td>\n",
              "      <td>1.0</td>\n",
              "      <td>0.0</td>\n",
              "      <td>0.0</td>\n",
              "      <td>8.0</td>\n",
              "      <td>2.0</td>\n",
              "      <td>69.0</td>\n",
              "    </tr>\n",
              "    <tr>\n",
              "      <th>1</th>\n",
              "      <td>1.0</td>\n",
              "      <td>0.0</td>\n",
              "      <td>0.0</td>\n",
              "      <td>0.0</td>\n",
              "      <td>1.0</td>\n",
              "      <td>0.0</td>\n",
              "      <td>0.0</td>\n",
              "      <td>1.0</td>\n",
              "      <td>0.0</td>\n",
              "      <td>0.0</td>\n",
              "      <td>0.0</td>\n",
              "      <td>0.0</td>\n",
              "      <td>7.0</td>\n",
              "      <td>4.0</td>\n",
              "      <td>31.0</td>\n",
              "    </tr>\n",
              "    <tr>\n",
              "      <th>2</th>\n",
              "      <td>1.0</td>\n",
              "      <td>0.0</td>\n",
              "      <td>0.0</td>\n",
              "      <td>0.0</td>\n",
              "      <td>1.0</td>\n",
              "      <td>0.0</td>\n",
              "      <td>0.0</td>\n",
              "      <td>1.0</td>\n",
              "      <td>0.0</td>\n",
              "      <td>0.0</td>\n",
              "      <td>0.0</td>\n",
              "      <td>0.0</td>\n",
              "      <td>7.0</td>\n",
              "      <td>1.0</td>\n",
              "      <td>31.0</td>\n",
              "    </tr>\n",
              "    <tr>\n",
              "      <th>3</th>\n",
              "      <td>1.0</td>\n",
              "      <td>0.0</td>\n",
              "      <td>0.0</td>\n",
              "      <td>0.0</td>\n",
              "      <td>0.0</td>\n",
              "      <td>1.0</td>\n",
              "      <td>0.0</td>\n",
              "      <td>0.0</td>\n",
              "      <td>0.0</td>\n",
              "      <td>1.0</td>\n",
              "      <td>0.0</td>\n",
              "      <td>0.0</td>\n",
              "      <td>8.0</td>\n",
              "      <td>2.0</td>\n",
              "      <td>69.0</td>\n",
              "    </tr>\n",
              "    <tr>\n",
              "      <th>4</th>\n",
              "      <td>1.0</td>\n",
              "      <td>0.0</td>\n",
              "      <td>0.0</td>\n",
              "      <td>0.0</td>\n",
              "      <td>0.0</td>\n",
              "      <td>1.0</td>\n",
              "      <td>0.0</td>\n",
              "      <td>0.0</td>\n",
              "      <td>0.0</td>\n",
              "      <td>1.0</td>\n",
              "      <td>0.0</td>\n",
              "      <td>0.0</td>\n",
              "      <td>8.0</td>\n",
              "      <td>1.0</td>\n",
              "      <td>69.0</td>\n",
              "    </tr>\n",
              "  </tbody>\n",
              "</table>\n",
              "</div>\n",
              "      <button class=\"colab-df-convert\" onclick=\"convertToInteractive('df-6854736a-ed2a-4d71-a4fc-bbd071013ca5')\"\n",
              "              title=\"Convert this dataframe to an interactive table.\"\n",
              "              style=\"display:none;\">\n",
              "        \n",
              "  <svg xmlns=\"http://www.w3.org/2000/svg\" height=\"24px\"viewBox=\"0 0 24 24\"\n",
              "       width=\"24px\">\n",
              "    <path d=\"M0 0h24v24H0V0z\" fill=\"none\"/>\n",
              "    <path d=\"M18.56 5.44l.94 2.06.94-2.06 2.06-.94-2.06-.94-.94-2.06-.94 2.06-2.06.94zm-11 1L8.5 8.5l.94-2.06 2.06-.94-2.06-.94L8.5 2.5l-.94 2.06-2.06.94zm10 10l.94 2.06.94-2.06 2.06-.94-2.06-.94-.94-2.06-.94 2.06-2.06.94z\"/><path d=\"M17.41 7.96l-1.37-1.37c-.4-.4-.92-.59-1.43-.59-.52 0-1.04.2-1.43.59L10.3 9.45l-7.72 7.72c-.78.78-.78 2.05 0 2.83L4 21.41c.39.39.9.59 1.41.59.51 0 1.02-.2 1.41-.59l7.78-7.78 2.81-2.81c.8-.78.8-2.07 0-2.86zM5.41 20L4 18.59l7.72-7.72 1.47 1.35L5.41 20z\"/>\n",
              "  </svg>\n",
              "      </button>\n",
              "      \n",
              "  <style>\n",
              "    .colab-df-container {\n",
              "      display:flex;\n",
              "      flex-wrap:wrap;\n",
              "      gap: 12px;\n",
              "    }\n",
              "\n",
              "    .colab-df-convert {\n",
              "      background-color: #E8F0FE;\n",
              "      border: none;\n",
              "      border-radius: 50%;\n",
              "      cursor: pointer;\n",
              "      display: none;\n",
              "      fill: #1967D2;\n",
              "      height: 32px;\n",
              "      padding: 0 0 0 0;\n",
              "      width: 32px;\n",
              "    }\n",
              "\n",
              "    .colab-df-convert:hover {\n",
              "      background-color: #E2EBFA;\n",
              "      box-shadow: 0px 1px 2px rgba(60, 64, 67, 0.3), 0px 1px 3px 1px rgba(60, 64, 67, 0.15);\n",
              "      fill: #174EA6;\n",
              "    }\n",
              "\n",
              "    [theme=dark] .colab-df-convert {\n",
              "      background-color: #3B4455;\n",
              "      fill: #D2E3FC;\n",
              "    }\n",
              "\n",
              "    [theme=dark] .colab-df-convert:hover {\n",
              "      background-color: #434B5C;\n",
              "      box-shadow: 0px 1px 3px 1px rgba(0, 0, 0, 0.15);\n",
              "      filter: drop-shadow(0px 1px 2px rgba(0, 0, 0, 0.3));\n",
              "      fill: #FFFFFF;\n",
              "    }\n",
              "  </style>\n",
              "\n",
              "      <script>\n",
              "        const buttonEl =\n",
              "          document.querySelector('#df-6854736a-ed2a-4d71-a4fc-bbd071013ca5 button.colab-df-convert');\n",
              "        buttonEl.style.display =\n",
              "          google.colab.kernel.accessAllowed ? 'block' : 'none';\n",
              "\n",
              "        async function convertToInteractive(key) {\n",
              "          const element = document.querySelector('#df-6854736a-ed2a-4d71-a4fc-bbd071013ca5');\n",
              "          const dataTable =\n",
              "            await google.colab.kernel.invokeFunction('convertToInteractive',\n",
              "                                                     [key], {});\n",
              "          if (!dataTable) return;\n",
              "\n",
              "          const docLinkHtml = 'Like what you see? Visit the ' +\n",
              "            '<a target=\"_blank\" href=https://colab.research.google.com/notebooks/data_table.ipynb>data table notebook</a>'\n",
              "            + ' to learn more about interactive tables.';\n",
              "          element.innerHTML = '';\n",
              "          dataTable['output_type'] = 'display_data';\n",
              "          await google.colab.output.renderOutput(dataTable, element);\n",
              "          const docLink = document.createElement('div');\n",
              "          docLink.innerHTML = docLinkHtml;\n",
              "          element.appendChild(docLink);\n",
              "        }\n",
              "      </script>\n",
              "    </div>\n",
              "  </div>\n",
              "  "
            ]
          },
          "metadata": {},
          "execution_count": 20
        }
      ],
      "source": [
        "ordinal_encoded_df.head()"
      ]
    },
    {
      "cell_type": "code",
      "execution_count": 21,
      "id": "933698d6",
      "metadata": {
        "id": "933698d6"
      },
      "outputs": [],
      "source": [
        "one_hot_df = ordinal_encoded_df.drop(columns=['bass_pitch','label'])"
      ]
    },
    {
      "cell_type": "code",
      "execution_count": 22,
      "id": "5dd863d8",
      "metadata": {
        "id": "5dd863d8"
      },
      "outputs": [],
      "source": [
        "enc = OneHotEncoder()"
      ]
    },
    {
      "cell_type": "code",
      "execution_count": 23,
      "id": "cad17c81",
      "metadata": {
        "id": "cad17c81"
      },
      "outputs": [],
      "source": [
        "one_hot_bass_pitch = enc.fit_transform(np.array(df.bass_pitch).reshape(-1,1)).toarray()"
      ]
    },
    {
      "cell_type": "code",
      "execution_count": 24,
      "id": "c43be3de",
      "metadata": {
        "id": "c43be3de"
      },
      "outputs": [],
      "source": [
        "one_hot_df = pd.concat([one_hot_df, pd.DataFrame(one_hot_bass_pitch,columns=enc.get_feature_names_out())],axis=1)"
      ]
    },
    {
      "cell_type": "code",
      "execution_count": 25,
      "id": "03b819b6",
      "metadata": {
        "id": "03b819b6"
      },
      "outputs": [],
      "source": [
        "one_hot_df['label'] = list(enc.fit_transform(np.array(df.label).reshape(-1,1)).toarray())"
      ]
    },
    {
      "cell_type": "code",
      "execution_count": 26,
      "id": "45ded2d8",
      "metadata": {
        "colab": {
          "base_uri": "https://localhost:8080/"
        },
        "id": "45ded2d8",
        "outputId": "31bd3ad6-6c5f-4e89-9cd3-1f234b11b831"
      },
      "outputs": [
        {
          "output_type": "execute_result",
          "data": {
            "text/plain": [
              "array(['x0_ A#M', 'x0_ A#M7', 'x0_ A#d', 'x0_ A#d7', 'x0_ A#m',\n",
              "       'x0_ A#m6', 'x0_ A_M', 'x0_ A_M4', 'x0_ A_M6', 'x0_ A_M7',\n",
              "       'x0_ A_d', 'x0_ A_m', 'x0_ A_m4', 'x0_ A_m6', 'x0_ A_m7',\n",
              "       'x0_ B_M', 'x0_ B_M4', 'x0_ B_M7', 'x0_ B_d', 'x0_ B_d7',\n",
              "       'x0_ B_m', 'x0_ B_m6', 'x0_ B_m7', 'x0_ C#M', 'x0_ C#M4',\n",
              "       'x0_ C#M7', 'x0_ C#d', 'x0_ C#d6', 'x0_ C#d7', 'x0_ C#m',\n",
              "       'x0_ C#m7', 'x0_ C_M', 'x0_ C_M4', 'x0_ C_M6', 'x0_ C_M7',\n",
              "       'x0_ C_d6', 'x0_ C_d7', 'x0_ C_m', 'x0_ C_m6', 'x0_ C_m7',\n",
              "       'x0_ D#M', 'x0_ D#M7', 'x0_ D#d', 'x0_ D#d6', 'x0_ D#d7',\n",
              "       'x0_ D#m', 'x0_ D_M', 'x0_ D_M4', 'x0_ D_M6', 'x0_ D_M7',\n",
              "       'x0_ D_d7', 'x0_ D_m', 'x0_ D_m6', 'x0_ D_m7', 'x0_ E_M',\n",
              "       'x0_ E_M4', 'x0_ E_M7', 'x0_ E_d', 'x0_ E_m', 'x0_ E_m6',\n",
              "       'x0_ E_m7', 'x0_ F#M', 'x0_ F#M4', 'x0_ F#M7', 'x0_ F#d',\n",
              "       'x0_ F#d7', 'x0_ F#m', 'x0_ F#m6', 'x0_ F#m7', 'x0_ F_M',\n",
              "       'x0_ F_M4', 'x0_ F_M6', 'x0_ F_M7', 'x0_ F_d', 'x0_ F_d7',\n",
              "       'x0_ F_m', 'x0_ F_m6', 'x0_ F_m7', 'x0_ G#M', 'x0_ G#d',\n",
              "       'x0_ G#d7', 'x0_ G#m', 'x0_ G_M', 'x0_ G_M4', 'x0_ G_M6',\n",
              "       'x0_ G_M7', 'x0_ G_d', 'x0_ G_m', 'x0_ G_m6', 'x0_ G_m7'],\n",
              "      dtype=object)"
            ]
          },
          "metadata": {},
          "execution_count": 26
        }
      ],
      "source": [
        "enc.get_feature_names_out()"
      ]
    },
    {
      "cell_type": "code",
      "execution_count": 27,
      "id": "c9d212bf",
      "metadata": {
        "colab": {
          "base_uri": "https://localhost:8080/",
          "height": 994
        },
        "id": "c9d212bf",
        "outputId": "5cb2df4d-2cb9-494f-f578-1dee1a0d53bd"
      },
      "outputs": [
        {
          "output_type": "execute_result",
          "data": {
            "text/plain": [
              "     C  C#/Db    D  D#/Eb    E    F  F#/Gb    G  G#/Ab    A  ...  x0_C  x0_C#  \\\n",
              "0  1.0    0.0  0.0    0.0  0.0  1.0    0.0  0.0    0.0  1.0  ...   0.0    0.0   \n",
              "1  1.0    0.0  0.0    0.0  1.0  0.0    0.0  1.0    0.0  0.0  ...   0.0    0.0   \n",
              "2  1.0    0.0  0.0    0.0  1.0  0.0    0.0  1.0    0.0  0.0  ...   0.0    0.0   \n",
              "3  1.0    0.0  0.0    0.0  0.0  1.0    0.0  0.0    0.0  1.0  ...   0.0    0.0   \n",
              "4  1.0    0.0  0.0    0.0  0.0  1.0    0.0  0.0    0.0  1.0  ...   0.0    0.0   \n",
              "\n",
              "   x0_D  x0_D#  x0_E  x0_F  x0_F#  x0_G  x0_G#  \\\n",
              "0   0.0    0.0   0.0   1.0    0.0   0.0    0.0   \n",
              "1   0.0    0.0   1.0   0.0    0.0   0.0    0.0   \n",
              "2   0.0    0.0   1.0   0.0    0.0   0.0    0.0   \n",
              "3   0.0    0.0   0.0   1.0    0.0   0.0    0.0   \n",
              "4   0.0    0.0   0.0   1.0    0.0   0.0    0.0   \n",
              "\n",
              "                                               label  \n",
              "0  [0.0, 0.0, 0.0, 0.0, 0.0, 0.0, 0.0, 0.0, 0.0, ...  \n",
              "1  [0.0, 0.0, 0.0, 0.0, 0.0, 0.0, 0.0, 0.0, 0.0, ...  \n",
              "2  [0.0, 0.0, 0.0, 0.0, 0.0, 0.0, 0.0, 0.0, 0.0, ...  \n",
              "3  [0.0, 0.0, 0.0, 0.0, 0.0, 0.0, 0.0, 0.0, 0.0, ...  \n",
              "4  [0.0, 0.0, 0.0, 0.0, 0.0, 0.0, 0.0, 0.0, 0.0, ...  \n",
              "\n",
              "[5 rows x 26 columns]"
            ],
            "text/html": [
              "\n",
              "  <div id=\"df-5415e5cd-8755-4eb3-9039-38e7664fe293\">\n",
              "    <div class=\"colab-df-container\">\n",
              "      <div>\n",
              "<style scoped>\n",
              "    .dataframe tbody tr th:only-of-type {\n",
              "        vertical-align: middle;\n",
              "    }\n",
              "\n",
              "    .dataframe tbody tr th {\n",
              "        vertical-align: top;\n",
              "    }\n",
              "\n",
              "    .dataframe thead th {\n",
              "        text-align: right;\n",
              "    }\n",
              "</style>\n",
              "<table border=\"1\" class=\"dataframe\">\n",
              "  <thead>\n",
              "    <tr style=\"text-align: right;\">\n",
              "      <th></th>\n",
              "      <th>C</th>\n",
              "      <th>C#/Db</th>\n",
              "      <th>D</th>\n",
              "      <th>D#/Eb</th>\n",
              "      <th>E</th>\n",
              "      <th>F</th>\n",
              "      <th>F#/Gb</th>\n",
              "      <th>G</th>\n",
              "      <th>G#/Ab</th>\n",
              "      <th>A</th>\n",
              "      <th>...</th>\n",
              "      <th>x0_C</th>\n",
              "      <th>x0_C#</th>\n",
              "      <th>x0_D</th>\n",
              "      <th>x0_D#</th>\n",
              "      <th>x0_E</th>\n",
              "      <th>x0_F</th>\n",
              "      <th>x0_F#</th>\n",
              "      <th>x0_G</th>\n",
              "      <th>x0_G#</th>\n",
              "      <th>label</th>\n",
              "    </tr>\n",
              "  </thead>\n",
              "  <tbody>\n",
              "    <tr>\n",
              "      <th>0</th>\n",
              "      <td>1.0</td>\n",
              "      <td>0.0</td>\n",
              "      <td>0.0</td>\n",
              "      <td>0.0</td>\n",
              "      <td>0.0</td>\n",
              "      <td>1.0</td>\n",
              "      <td>0.0</td>\n",
              "      <td>0.0</td>\n",
              "      <td>0.0</td>\n",
              "      <td>1.0</td>\n",
              "      <td>...</td>\n",
              "      <td>0.0</td>\n",
              "      <td>0.0</td>\n",
              "      <td>0.0</td>\n",
              "      <td>0.0</td>\n",
              "      <td>0.0</td>\n",
              "      <td>1.0</td>\n",
              "      <td>0.0</td>\n",
              "      <td>0.0</td>\n",
              "      <td>0.0</td>\n",
              "      <td>[0.0, 0.0, 0.0, 0.0, 0.0, 0.0, 0.0, 0.0, 0.0, ...</td>\n",
              "    </tr>\n",
              "    <tr>\n",
              "      <th>1</th>\n",
              "      <td>1.0</td>\n",
              "      <td>0.0</td>\n",
              "      <td>0.0</td>\n",
              "      <td>0.0</td>\n",
              "      <td>1.0</td>\n",
              "      <td>0.0</td>\n",
              "      <td>0.0</td>\n",
              "      <td>1.0</td>\n",
              "      <td>0.0</td>\n",
              "      <td>0.0</td>\n",
              "      <td>...</td>\n",
              "      <td>0.0</td>\n",
              "      <td>0.0</td>\n",
              "      <td>0.0</td>\n",
              "      <td>0.0</td>\n",
              "      <td>1.0</td>\n",
              "      <td>0.0</td>\n",
              "      <td>0.0</td>\n",
              "      <td>0.0</td>\n",
              "      <td>0.0</td>\n",
              "      <td>[0.0, 0.0, 0.0, 0.0, 0.0, 0.0, 0.0, 0.0, 0.0, ...</td>\n",
              "    </tr>\n",
              "    <tr>\n",
              "      <th>2</th>\n",
              "      <td>1.0</td>\n",
              "      <td>0.0</td>\n",
              "      <td>0.0</td>\n",
              "      <td>0.0</td>\n",
              "      <td>1.0</td>\n",
              "      <td>0.0</td>\n",
              "      <td>0.0</td>\n",
              "      <td>1.0</td>\n",
              "      <td>0.0</td>\n",
              "      <td>0.0</td>\n",
              "      <td>...</td>\n",
              "      <td>0.0</td>\n",
              "      <td>0.0</td>\n",
              "      <td>0.0</td>\n",
              "      <td>0.0</td>\n",
              "      <td>1.0</td>\n",
              "      <td>0.0</td>\n",
              "      <td>0.0</td>\n",
              "      <td>0.0</td>\n",
              "      <td>0.0</td>\n",
              "      <td>[0.0, 0.0, 0.0, 0.0, 0.0, 0.0, 0.0, 0.0, 0.0, ...</td>\n",
              "    </tr>\n",
              "    <tr>\n",
              "      <th>3</th>\n",
              "      <td>1.0</td>\n",
              "      <td>0.0</td>\n",
              "      <td>0.0</td>\n",
              "      <td>0.0</td>\n",
              "      <td>0.0</td>\n",
              "      <td>1.0</td>\n",
              "      <td>0.0</td>\n",
              "      <td>0.0</td>\n",
              "      <td>0.0</td>\n",
              "      <td>1.0</td>\n",
              "      <td>...</td>\n",
              "      <td>0.0</td>\n",
              "      <td>0.0</td>\n",
              "      <td>0.0</td>\n",
              "      <td>0.0</td>\n",
              "      <td>0.0</td>\n",
              "      <td>1.0</td>\n",
              "      <td>0.0</td>\n",
              "      <td>0.0</td>\n",
              "      <td>0.0</td>\n",
              "      <td>[0.0, 0.0, 0.0, 0.0, 0.0, 0.0, 0.0, 0.0, 0.0, ...</td>\n",
              "    </tr>\n",
              "    <tr>\n",
              "      <th>4</th>\n",
              "      <td>1.0</td>\n",
              "      <td>0.0</td>\n",
              "      <td>0.0</td>\n",
              "      <td>0.0</td>\n",
              "      <td>0.0</td>\n",
              "      <td>1.0</td>\n",
              "      <td>0.0</td>\n",
              "      <td>0.0</td>\n",
              "      <td>0.0</td>\n",
              "      <td>1.0</td>\n",
              "      <td>...</td>\n",
              "      <td>0.0</td>\n",
              "      <td>0.0</td>\n",
              "      <td>0.0</td>\n",
              "      <td>0.0</td>\n",
              "      <td>0.0</td>\n",
              "      <td>1.0</td>\n",
              "      <td>0.0</td>\n",
              "      <td>0.0</td>\n",
              "      <td>0.0</td>\n",
              "      <td>[0.0, 0.0, 0.0, 0.0, 0.0, 0.0, 0.0, 0.0, 0.0, ...</td>\n",
              "    </tr>\n",
              "  </tbody>\n",
              "</table>\n",
              "<p>5 rows × 26 columns</p>\n",
              "</div>\n",
              "      <button class=\"colab-df-convert\" onclick=\"convertToInteractive('df-5415e5cd-8755-4eb3-9039-38e7664fe293')\"\n",
              "              title=\"Convert this dataframe to an interactive table.\"\n",
              "              style=\"display:none;\">\n",
              "        \n",
              "  <svg xmlns=\"http://www.w3.org/2000/svg\" height=\"24px\"viewBox=\"0 0 24 24\"\n",
              "       width=\"24px\">\n",
              "    <path d=\"M0 0h24v24H0V0z\" fill=\"none\"/>\n",
              "    <path d=\"M18.56 5.44l.94 2.06.94-2.06 2.06-.94-2.06-.94-.94-2.06-.94 2.06-2.06.94zm-11 1L8.5 8.5l.94-2.06 2.06-.94-2.06-.94L8.5 2.5l-.94 2.06-2.06.94zm10 10l.94 2.06.94-2.06 2.06-.94-2.06-.94-.94-2.06-.94 2.06-2.06.94z\"/><path d=\"M17.41 7.96l-1.37-1.37c-.4-.4-.92-.59-1.43-.59-.52 0-1.04.2-1.43.59L10.3 9.45l-7.72 7.72c-.78.78-.78 2.05 0 2.83L4 21.41c.39.39.9.59 1.41.59.51 0 1.02-.2 1.41-.59l7.78-7.78 2.81-2.81c.8-.78.8-2.07 0-2.86zM5.41 20L4 18.59l7.72-7.72 1.47 1.35L5.41 20z\"/>\n",
              "  </svg>\n",
              "      </button>\n",
              "      \n",
              "  <style>\n",
              "    .colab-df-container {\n",
              "      display:flex;\n",
              "      flex-wrap:wrap;\n",
              "      gap: 12px;\n",
              "    }\n",
              "\n",
              "    .colab-df-convert {\n",
              "      background-color: #E8F0FE;\n",
              "      border: none;\n",
              "      border-radius: 50%;\n",
              "      cursor: pointer;\n",
              "      display: none;\n",
              "      fill: #1967D2;\n",
              "      height: 32px;\n",
              "      padding: 0 0 0 0;\n",
              "      width: 32px;\n",
              "    }\n",
              "\n",
              "    .colab-df-convert:hover {\n",
              "      background-color: #E2EBFA;\n",
              "      box-shadow: 0px 1px 2px rgba(60, 64, 67, 0.3), 0px 1px 3px 1px rgba(60, 64, 67, 0.15);\n",
              "      fill: #174EA6;\n",
              "    }\n",
              "\n",
              "    [theme=dark] .colab-df-convert {\n",
              "      background-color: #3B4455;\n",
              "      fill: #D2E3FC;\n",
              "    }\n",
              "\n",
              "    [theme=dark] .colab-df-convert:hover {\n",
              "      background-color: #434B5C;\n",
              "      box-shadow: 0px 1px 3px 1px rgba(0, 0, 0, 0.15);\n",
              "      filter: drop-shadow(0px 1px 2px rgba(0, 0, 0, 0.3));\n",
              "      fill: #FFFFFF;\n",
              "    }\n",
              "  </style>\n",
              "\n",
              "      <script>\n",
              "        const buttonEl =\n",
              "          document.querySelector('#df-5415e5cd-8755-4eb3-9039-38e7664fe293 button.colab-df-convert');\n",
              "        buttonEl.style.display =\n",
              "          google.colab.kernel.accessAllowed ? 'block' : 'none';\n",
              "\n",
              "        async function convertToInteractive(key) {\n",
              "          const element = document.querySelector('#df-5415e5cd-8755-4eb3-9039-38e7664fe293');\n",
              "          const dataTable =\n",
              "            await google.colab.kernel.invokeFunction('convertToInteractive',\n",
              "                                                     [key], {});\n",
              "          if (!dataTable) return;\n",
              "\n",
              "          const docLinkHtml = 'Like what you see? Visit the ' +\n",
              "            '<a target=\"_blank\" href=https://colab.research.google.com/notebooks/data_table.ipynb>data table notebook</a>'\n",
              "            + ' to learn more about interactive tables.';\n",
              "          element.innerHTML = '';\n",
              "          dataTable['output_type'] = 'display_data';\n",
              "          await google.colab.output.renderOutput(dataTable, element);\n",
              "          const docLink = document.createElement('div');\n",
              "          docLink.innerHTML = docLinkHtml;\n",
              "          element.appendChild(docLink);\n",
              "        }\n",
              "      </script>\n",
              "    </div>\n",
              "  </div>\n",
              "  "
            ]
          },
          "metadata": {},
          "execution_count": 27
        }
      ],
      "source": [
        "one_hot_df.head()"
      ]
    },
    {
      "cell_type": "code",
      "execution_count": 28,
      "id": "08745a36",
      "metadata": {
        "id": "08745a36"
      },
      "outputs": [],
      "source": [
        "one_hot_df.to_csv('one_hot_df.csv',index=False)\n",
        "ordinal_encoded_df.to_csv('ordinal_encoded_df.csv',index=False)"
      ]
    }
  ],
  "metadata": {
    "colab": {
      "provenance": [],
      "include_colab_link": true
    },
    "kernelspec": {
      "display_name": "Python 3 (ipykernel)",
      "language": "python",
      "name": "python3"
    },
    "language_info": {
      "codemirror_mode": {
        "name": "ipython",
        "version": 3
      },
      "file_extension": ".py",
      "mimetype": "text/x-python",
      "name": "python",
      "nbconvert_exporter": "python",
      "pygments_lexer": "ipython3",
      "version": "3.10.6"
    }
  },
  "nbformat": 4,
  "nbformat_minor": 5
}