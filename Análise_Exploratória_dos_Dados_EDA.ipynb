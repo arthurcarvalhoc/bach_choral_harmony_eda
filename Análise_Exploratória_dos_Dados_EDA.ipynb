{
  "cells": [
    {
      "cell_type": "markdown",
      "metadata": {
        "id": "view-in-github",
        "colab_type": "text"
      },
      "source": [
        "<a href=\"https://colab.research.google.com/github/arthurcarvalhoc/bach_choral_harmony_eda/blob/main/An%C3%A1lise_Explorat%C3%B3ria_dos_Dados_EDA.ipynb\" target=\"_parent\"><img src=\"https://colab.research.google.com/assets/colab-badge.svg\" alt=\"Open In Colab\"/></a>"
      ]
    },
    {
      "cell_type": "markdown",
      "id": "ee87bef4",
      "metadata": {
        "id": "ee87bef4"
      },
      "source": [
        "## Análise Exploratória dos Dados\n",
        "Grupo:\n",
        "- Rafael de Lima Pacheco Silva\n",
        "- Carlos André Batista\n",
        "- Arthur Carvalho"
      ]
    },
    {
      "cell_type": "code",
      "source": [
        "!rm jsbach*.*\n",
        "!wget https://archive.ics.uci.edu/ml/machine-learning-databases/00298/jsbach_chorals_harmony.zip\n",
        "!unzip -o *.zip "
      ],
      "metadata": {
        "colab": {
          "base_uri": "https://localhost:8080/"
        },
        "id": "EJU-M-PAxRg6",
        "outputId": "4041a48a-7e65-449d-a9a6-89a5c63ca235"
      },
      "id": "EJU-M-PAxRg6",
      "execution_count": 22,
      "outputs": [
        {
          "output_type": "stream",
          "name": "stdout",
          "text": [
            "--2022-10-20 14:33:02--  https://archive.ics.uci.edu/ml/machine-learning-databases/00298/jsbach_chorals_harmony.zip\n",
            "Resolving archive.ics.uci.edu (archive.ics.uci.edu)... 128.195.10.252\n",
            "Connecting to archive.ics.uci.edu (archive.ics.uci.edu)|128.195.10.252|:443... connected.\n",
            "HTTP request sent, awaiting response... 200 OK\n",
            "Length: 42966 (42K) [application/x-httpd-php]\n",
            "Saving to: ‘jsbach_chorals_harmony.zip’\n",
            "\n",
            "jsbach_chorals_harm 100%[===================>]  41.96K   140KB/s    in 0.3s    \n",
            "\n",
            "2022-10-20 14:33:03 (140 KB/s) - ‘jsbach_chorals_harmony.zip’ saved [42966/42966]\n",
            "\n",
            "Archive:  jsbach_chorals_harmony.zip\n",
            "  inflating: jsbach_chorals_harmony.data  \n",
            "  inflating: __MACOSX/._jsbach_chorals_harmony.data  \n",
            "  inflating: jsbach_chorals_harmony.names  \n"
          ]
        }
      ]
    },
    {
      "cell_type": "code",
      "source": [
        "!pip install pandas numpy sklearn sklearn matplotlib"
      ],
      "metadata": {
        "colab": {
          "base_uri": "https://localhost:8080/"
        },
        "id": "BmJV2zDNxmu9",
        "outputId": "80c549f2-7a2f-485f-c344-8ddd1b217869"
      },
      "id": "BmJV2zDNxmu9",
      "execution_count": null,
      "outputs": [
        {
          "output_type": "stream",
          "name": "stdout",
          "text": [
            "Looking in indexes: https://pypi.org/simple, https://us-python.pkg.dev/colab-wheels/public/simple/\n",
            "Requirement already satisfied: pandas in /usr/local/lib/python3.7/dist-packages (1.3.5)\n",
            "Requirement already satisfied: numpy in /usr/local/lib/python3.7/dist-packages (1.21.6)\n",
            "Requirement already satisfied: sklearn in /usr/local/lib/python3.7/dist-packages (0.0)\n",
            "Requirement already satisfied: matplotlib in /usr/local/lib/python3.7/dist-packages (3.2.2)\n",
            "Requirement already satisfied: pytz>=2017.3 in /usr/local/lib/python3.7/dist-packages (from pandas) (2022.4)\n",
            "Requirement already satisfied: python-dateutil>=2.7.3 in /usr/local/lib/python3.7/dist-packages (from pandas) (2.8.2)\n",
            "Requirement already satisfied: six>=1.5 in /usr/local/lib/python3.7/dist-packages (from python-dateutil>=2.7.3->pandas) (1.15.0)\n",
            "Requirement already satisfied: scikit-learn in /usr/local/lib/python3.7/dist-packages (from sklearn) (1.0.2)\n",
            "Requirement already satisfied: cycler>=0.10 in /usr/local/lib/python3.7/dist-packages (from matplotlib) (0.11.0)\n",
            "Requirement already satisfied: kiwisolver>=1.0.1 in /usr/local/lib/python3.7/dist-packages (from matplotlib) (1.4.4)\n",
            "Requirement already satisfied: pyparsing!=2.0.4,!=2.1.2,!=2.1.6,>=2.0.1 in /usr/local/lib/python3.7/dist-packages (from matplotlib) (3.0.9)\n",
            "Requirement already satisfied: typing-extensions in /usr/local/lib/python3.7/dist-packages (from kiwisolver>=1.0.1->matplotlib) (4.1.1)\n",
            "Requirement already satisfied: scipy>=1.1.0 in /usr/local/lib/python3.7/dist-packages (from scikit-learn->sklearn) (1.7.3)\n",
            "Requirement already satisfied: joblib>=0.11 in /usr/local/lib/python3.7/dist-packages (from scikit-learn->sklearn) (1.2.0)\n",
            "Requirement already satisfied: threadpoolctl>=2.0.0 in /usr/local/lib/python3.7/dist-packages (from scikit-learn->sklearn) (3.1.0)\n"
          ]
        }
      ]
    },
    {
      "cell_type": "markdown",
      "id": "7b3e83ef",
      "metadata": {
        "id": "7b3e83ef"
      },
      "source": [
        "## Informações do Dataset\n",
        "Dataset e suas informações extraídos de:\n",
        "https://archive.ics.uci.edu/ml/datasets/Bach+Choral+Harmony\n",
        "\n",
        "***\n",
        "Attribute Information:\n",
        "1. Choral ID: corresponding to the file names from (Bach Central).\n",
        "2. Event number: index (starting from 1) of the event inside the chorale.\n",
        "\n",
        "3-14. Pitch classes: YES/NO depending on whether a given pitch is present.\n",
        "Pitch classes/attribute correspondence is as follows:\n",
        "C -> 3\n",
        "C#/Db -> 4\n",
        "D -> 5\n",
        "...\n",
        "B -> 14\n",
        "\n",
        "15. Bass: Pitch class of the bass note\n",
        "16. Meter: integers from 1 to 5. Lower numbers denote less accented events,higher numbers denote more accented events.\n",
        "17. Chord label: Chord resonating during the given event. \n",
        "***"
      ]
    },
    {
      "cell_type": "code",
      "execution_count": 2,
      "id": "6592bf8c",
      "metadata": {
        "id": "6592bf8c"
      },
      "outputs": [],
      "source": [
        "import pandas as pd\n",
        "import numpy as np\n",
        "import matplotlib.pyplot as plt\n",
        "import seaborn as sns\n",
        "\n",
        "from matplotlib import rcParams\n",
        "from sklearn.preprocessing import OrdinalEncoder\n",
        "\n",
        "plt.style.use(\"ggplot\")\n",
        "rcParams['figure.figsize'] = (12,  6)"
      ]
    },
    {
      "cell_type": "markdown",
      "id": "cb6ff0a6",
      "metadata": {
        "id": "cb6ff0a6"
      },
      "source": [
        "## Visão Geral do Dataset"
      ]
    },
    {
      "cell_type": "code",
      "execution_count": 3,
      "id": "7804e557",
      "metadata": {
        "id": "7804e557"
      },
      "outputs": [],
      "source": [
        "column_names = ['choral_id','event_number','3','4','5','6','7','8','9','10','11','12','13','14','bass_pitch','meter','label']\n",
        "feature_cols = ['3','4','5','6','7','8','9','10','11','12','13','14','bass_pitch','meter']"
      ]
    },
    {
      "cell_type": "code",
      "execution_count": 4,
      "id": "9e34b74b",
      "metadata": {
        "id": "9e34b74b"
      },
      "outputs": [],
      "source": [
        "df = pd.read_csv(\"jsbach_chorals_harmony.data\",header=None,names=column_names)"
      ]
    },
    {
      "cell_type": "code",
      "execution_count": 5,
      "id": "486b7edd",
      "metadata": {
        "id": "486b7edd",
        "outputId": "cfda68a3-27de-41ac-d76a-5b33bc9d268b",
        "colab": {
          "base_uri": "https://localhost:8080/",
          "height": 270
        }
      },
      "outputs": [
        {
          "output_type": "execute_result",
          "data": {
            "text/plain": [
              "  choral_id  event_number    3    4    5    6    7    8    9   10   11   12  \\\n",
              "0  000106b_             1  YES   NO   NO   NO   NO  YES   NO   NO   NO  YES   \n",
              "1  000106b_             2  YES   NO   NO   NO  YES   NO   NO  YES   NO   NO   \n",
              "2  000106b_             3  YES   NO   NO   NO  YES   NO   NO  YES   NO   NO   \n",
              "3  000106b_             4  YES   NO   NO   NO   NO  YES   NO   NO   NO  YES   \n",
              "4  000106b_             5  YES   NO   NO   NO   NO  YES   NO   NO   NO  YES   \n",
              "\n",
              "    13   14 bass_pitch  meter label  \n",
              "0   NO   NO          F      3   F_M  \n",
              "1   NO   NO          E      5   C_M  \n",
              "2   NO   NO          E      2   C_M  \n",
              "3   NO   NO          F      3   F_M  \n",
              "4   NO   NO          F      2   F_M  "
            ],
            "text/html": [
              "\n",
              "  <div id=\"df-67d2124f-d217-478b-aeba-b78192e229a7\">\n",
              "    <div class=\"colab-df-container\">\n",
              "      <div>\n",
              "<style scoped>\n",
              "    .dataframe tbody tr th:only-of-type {\n",
              "        vertical-align: middle;\n",
              "    }\n",
              "\n",
              "    .dataframe tbody tr th {\n",
              "        vertical-align: top;\n",
              "    }\n",
              "\n",
              "    .dataframe thead th {\n",
              "        text-align: right;\n",
              "    }\n",
              "</style>\n",
              "<table border=\"1\" class=\"dataframe\">\n",
              "  <thead>\n",
              "    <tr style=\"text-align: right;\">\n",
              "      <th></th>\n",
              "      <th>choral_id</th>\n",
              "      <th>event_number</th>\n",
              "      <th>3</th>\n",
              "      <th>4</th>\n",
              "      <th>5</th>\n",
              "      <th>6</th>\n",
              "      <th>7</th>\n",
              "      <th>8</th>\n",
              "      <th>9</th>\n",
              "      <th>10</th>\n",
              "      <th>11</th>\n",
              "      <th>12</th>\n",
              "      <th>13</th>\n",
              "      <th>14</th>\n",
              "      <th>bass_pitch</th>\n",
              "      <th>meter</th>\n",
              "      <th>label</th>\n",
              "    </tr>\n",
              "  </thead>\n",
              "  <tbody>\n",
              "    <tr>\n",
              "      <th>0</th>\n",
              "      <td>000106b_</td>\n",
              "      <td>1</td>\n",
              "      <td>YES</td>\n",
              "      <td>NO</td>\n",
              "      <td>NO</td>\n",
              "      <td>NO</td>\n",
              "      <td>NO</td>\n",
              "      <td>YES</td>\n",
              "      <td>NO</td>\n",
              "      <td>NO</td>\n",
              "      <td>NO</td>\n",
              "      <td>YES</td>\n",
              "      <td>NO</td>\n",
              "      <td>NO</td>\n",
              "      <td>F</td>\n",
              "      <td>3</td>\n",
              "      <td>F_M</td>\n",
              "    </tr>\n",
              "    <tr>\n",
              "      <th>1</th>\n",
              "      <td>000106b_</td>\n",
              "      <td>2</td>\n",
              "      <td>YES</td>\n",
              "      <td>NO</td>\n",
              "      <td>NO</td>\n",
              "      <td>NO</td>\n",
              "      <td>YES</td>\n",
              "      <td>NO</td>\n",
              "      <td>NO</td>\n",
              "      <td>YES</td>\n",
              "      <td>NO</td>\n",
              "      <td>NO</td>\n",
              "      <td>NO</td>\n",
              "      <td>NO</td>\n",
              "      <td>E</td>\n",
              "      <td>5</td>\n",
              "      <td>C_M</td>\n",
              "    </tr>\n",
              "    <tr>\n",
              "      <th>2</th>\n",
              "      <td>000106b_</td>\n",
              "      <td>3</td>\n",
              "      <td>YES</td>\n",
              "      <td>NO</td>\n",
              "      <td>NO</td>\n",
              "      <td>NO</td>\n",
              "      <td>YES</td>\n",
              "      <td>NO</td>\n",
              "      <td>NO</td>\n",
              "      <td>YES</td>\n",
              "      <td>NO</td>\n",
              "      <td>NO</td>\n",
              "      <td>NO</td>\n",
              "      <td>NO</td>\n",
              "      <td>E</td>\n",
              "      <td>2</td>\n",
              "      <td>C_M</td>\n",
              "    </tr>\n",
              "    <tr>\n",
              "      <th>3</th>\n",
              "      <td>000106b_</td>\n",
              "      <td>4</td>\n",
              "      <td>YES</td>\n",
              "      <td>NO</td>\n",
              "      <td>NO</td>\n",
              "      <td>NO</td>\n",
              "      <td>NO</td>\n",
              "      <td>YES</td>\n",
              "      <td>NO</td>\n",
              "      <td>NO</td>\n",
              "      <td>NO</td>\n",
              "      <td>YES</td>\n",
              "      <td>NO</td>\n",
              "      <td>NO</td>\n",
              "      <td>F</td>\n",
              "      <td>3</td>\n",
              "      <td>F_M</td>\n",
              "    </tr>\n",
              "    <tr>\n",
              "      <th>4</th>\n",
              "      <td>000106b_</td>\n",
              "      <td>5</td>\n",
              "      <td>YES</td>\n",
              "      <td>NO</td>\n",
              "      <td>NO</td>\n",
              "      <td>NO</td>\n",
              "      <td>NO</td>\n",
              "      <td>YES</td>\n",
              "      <td>NO</td>\n",
              "      <td>NO</td>\n",
              "      <td>NO</td>\n",
              "      <td>YES</td>\n",
              "      <td>NO</td>\n",
              "      <td>NO</td>\n",
              "      <td>F</td>\n",
              "      <td>2</td>\n",
              "      <td>F_M</td>\n",
              "    </tr>\n",
              "  </tbody>\n",
              "</table>\n",
              "</div>\n",
              "      <button class=\"colab-df-convert\" onclick=\"convertToInteractive('df-67d2124f-d217-478b-aeba-b78192e229a7')\"\n",
              "              title=\"Convert this dataframe to an interactive table.\"\n",
              "              style=\"display:none;\">\n",
              "        \n",
              "  <svg xmlns=\"http://www.w3.org/2000/svg\" height=\"24px\"viewBox=\"0 0 24 24\"\n",
              "       width=\"24px\">\n",
              "    <path d=\"M0 0h24v24H0V0z\" fill=\"none\"/>\n",
              "    <path d=\"M18.56 5.44l.94 2.06.94-2.06 2.06-.94-2.06-.94-.94-2.06-.94 2.06-2.06.94zm-11 1L8.5 8.5l.94-2.06 2.06-.94-2.06-.94L8.5 2.5l-.94 2.06-2.06.94zm10 10l.94 2.06.94-2.06 2.06-.94-2.06-.94-.94-2.06-.94 2.06-2.06.94z\"/><path d=\"M17.41 7.96l-1.37-1.37c-.4-.4-.92-.59-1.43-.59-.52 0-1.04.2-1.43.59L10.3 9.45l-7.72 7.72c-.78.78-.78 2.05 0 2.83L4 21.41c.39.39.9.59 1.41.59.51 0 1.02-.2 1.41-.59l7.78-7.78 2.81-2.81c.8-.78.8-2.07 0-2.86zM5.41 20L4 18.59l7.72-7.72 1.47 1.35L5.41 20z\"/>\n",
              "  </svg>\n",
              "      </button>\n",
              "      \n",
              "  <style>\n",
              "    .colab-df-container {\n",
              "      display:flex;\n",
              "      flex-wrap:wrap;\n",
              "      gap: 12px;\n",
              "    }\n",
              "\n",
              "    .colab-df-convert {\n",
              "      background-color: #E8F0FE;\n",
              "      border: none;\n",
              "      border-radius: 50%;\n",
              "      cursor: pointer;\n",
              "      display: none;\n",
              "      fill: #1967D2;\n",
              "      height: 32px;\n",
              "      padding: 0 0 0 0;\n",
              "      width: 32px;\n",
              "    }\n",
              "\n",
              "    .colab-df-convert:hover {\n",
              "      background-color: #E2EBFA;\n",
              "      box-shadow: 0px 1px 2px rgba(60, 64, 67, 0.3), 0px 1px 3px 1px rgba(60, 64, 67, 0.15);\n",
              "      fill: #174EA6;\n",
              "    }\n",
              "\n",
              "    [theme=dark] .colab-df-convert {\n",
              "      background-color: #3B4455;\n",
              "      fill: #D2E3FC;\n",
              "    }\n",
              "\n",
              "    [theme=dark] .colab-df-convert:hover {\n",
              "      background-color: #434B5C;\n",
              "      box-shadow: 0px 1px 3px 1px rgba(0, 0, 0, 0.15);\n",
              "      filter: drop-shadow(0px 1px 2px rgba(0, 0, 0, 0.3));\n",
              "      fill: #FFFFFF;\n",
              "    }\n",
              "  </style>\n",
              "\n",
              "      <script>\n",
              "        const buttonEl =\n",
              "          document.querySelector('#df-67d2124f-d217-478b-aeba-b78192e229a7 button.colab-df-convert');\n",
              "        buttonEl.style.display =\n",
              "          google.colab.kernel.accessAllowed ? 'block' : 'none';\n",
              "\n",
              "        async function convertToInteractive(key) {\n",
              "          const element = document.querySelector('#df-67d2124f-d217-478b-aeba-b78192e229a7');\n",
              "          const dataTable =\n",
              "            await google.colab.kernel.invokeFunction('convertToInteractive',\n",
              "                                                     [key], {});\n",
              "          if (!dataTable) return;\n",
              "\n",
              "          const docLinkHtml = 'Like what you see? Visit the ' +\n",
              "            '<a target=\"_blank\" href=https://colab.research.google.com/notebooks/data_table.ipynb>data table notebook</a>'\n",
              "            + ' to learn more about interactive tables.';\n",
              "          element.innerHTML = '';\n",
              "          dataTable['output_type'] = 'display_data';\n",
              "          await google.colab.output.renderOutput(dataTable, element);\n",
              "          const docLink = document.createElement('div');\n",
              "          docLink.innerHTML = docLinkHtml;\n",
              "          element.appendChild(docLink);\n",
              "        }\n",
              "      </script>\n",
              "    </div>\n",
              "  </div>\n",
              "  "
            ]
          },
          "metadata": {},
          "execution_count": 5
        }
      ],
      "source": [
        "df.head()"
      ]
    },
    {
      "cell_type": "markdown",
      "id": "61bc8f3c",
      "metadata": {
        "id": "61bc8f3c"
      },
      "source": [
        "Removendo colunas que são apenas identificadores, como o `choral_id` e `event_number`"
      ]
    },
    {
      "cell_type": "code",
      "execution_count": 6,
      "id": "3fffe756",
      "metadata": {
        "id": "3fffe756"
      },
      "outputs": [],
      "source": [
        "df = df.drop(columns=['choral_id','event_number'])"
      ]
    },
    {
      "cell_type": "markdown",
      "id": "183bdb12",
      "metadata": {
        "id": "183bdb12"
      },
      "source": [
        "- O dataset contém 5665 eventos, e 15 colunas. Sendo 14 delas de features e 1 o label do acorde para ser predito.\n",
        "- Todas as features com exceção da coluna `meter` são strings, o que já mostra que será necessário utilizar alguma forma de encoding para representação delas no modelo\n",
        "- Não há dados faltantes no dataset"
      ]
    },
    {
      "cell_type": "code",
      "execution_count": 7,
      "id": "6587f00b",
      "metadata": {
        "id": "6587f00b",
        "outputId": "f4630db0-86bf-4578-9074-36543208d772",
        "colab": {
          "base_uri": "https://localhost:8080/"
        }
      },
      "outputs": [
        {
          "output_type": "stream",
          "name": "stdout",
          "text": [
            "<class 'pandas.core.frame.DataFrame'>\n",
            "RangeIndex: 5665 entries, 0 to 5664\n",
            "Data columns (total 15 columns):\n",
            " #   Column      Non-Null Count  Dtype \n",
            "---  ------      --------------  ----- \n",
            " 0   3           5665 non-null   object\n",
            " 1   4           5665 non-null   object\n",
            " 2   5           5665 non-null   object\n",
            " 3   6           5665 non-null   object\n",
            " 4   7           5665 non-null   object\n",
            " 5   8           5665 non-null   object\n",
            " 6   9           5665 non-null   object\n",
            " 7   10          5665 non-null   object\n",
            " 8   11          5665 non-null   object\n",
            " 9   12          5665 non-null   object\n",
            " 10  13          5665 non-null   object\n",
            " 11  14          5665 non-null   object\n",
            " 12  bass_pitch  5665 non-null   object\n",
            " 13  meter       5665 non-null   int64 \n",
            " 14  label       5665 non-null   object\n",
            "dtypes: int64(1), object(14)\n",
            "memory usage: 664.0+ KB\n"
          ]
        }
      ],
      "source": [
        "df.info()"
      ]
    },
    {
      "cell_type": "markdown",
      "id": "918eab75",
      "metadata": {
        "id": "918eab75"
      },
      "source": [
        "3762 entradas do total de 5665 do dataset são dados duplicados. Isso é um comportamento esperado dada a natureza dos dados, já que um acorde tende a ser definido pela presença das mesmas frequências."
      ]
    },
    {
      "cell_type": "code",
      "execution_count": 8,
      "id": "bc3b2e50",
      "metadata": {
        "id": "bc3b2e50",
        "outputId": "6f01f71a-6e3c-420d-a7c4-73b7de306d9b",
        "colab": {
          "base_uri": "https://localhost:8080/"
        }
      },
      "outputs": [
        {
          "output_type": "execute_result",
          "data": {
            "text/plain": [
              "3762"
            ]
          },
          "metadata": {},
          "execution_count": 8
        }
      ],
      "source": [
        "df.duplicated().sum()"
      ]
    },
    {
      "cell_type": "markdown",
      "id": "fb294735",
      "metadata": {
        "id": "fb294735"
      },
      "source": [
        "## Análise do Label"
      ]
    },
    {
      "cell_type": "markdown",
      "id": "f73d36ba",
      "metadata": {
        "id": "f73d36ba"
      },
      "source": [
        "O label conta com 102 possíveis valores categóricos, sendo assim um problema multiclasse com uma quantidade alta de classes"
      ]
    },
    {
      "cell_type": "code",
      "execution_count": 9,
      "id": "c0868176",
      "metadata": {
        "id": "c0868176",
        "outputId": "6cc91b58-b270-4c16-855e-23270f14e36a",
        "colab": {
          "base_uri": "https://localhost:8080/"
        }
      },
      "outputs": [
        {
          "output_type": "execute_result",
          "data": {
            "text/plain": [
              "102"
            ]
          },
          "metadata": {},
          "execution_count": 9
        }
      ],
      "source": [
        "df.label.nunique()"
      ]
    },
    {
      "cell_type": "markdown",
      "id": "e3792867",
      "metadata": {
        "id": "e3792867"
      },
      "source": [
        "Além do alto número de classes, o que eleva bastante a complexidade do problema, as classes estão bastante desbalanceadas como mostra o gráfico de frequências abaixo. \n",
        "\n",
        "Isso já sugere que será necessário avaliar o desempenho de algoritmos de balanceamento de classes para o treinamento do modelo."
      ]
    },
    {
      "cell_type": "code",
      "execution_count": 10,
      "id": "9b03302c",
      "metadata": {
        "id": "9b03302c",
        "outputId": "fb06fcba-09a0-4d93-a04c-0cd8c94f94c5",
        "colab": {
          "base_uri": "https://localhost:8080/",
          "height": 402
        }
      },
      "outputs": [
        {
          "output_type": "display_data",
          "data": {
            "text/plain": [
              "<Figure size 864x432 with 1 Axes>"
            ],
            "image/png": "[encoded data removed]"
          },
          "metadata": {}
        }
      ],
      "source": [
        "df.label.value_counts().plot(kind=\"bar\")\n",
        "plt.title(\"Frequência dos valores do label\")\n",
        "plt.xlabel(\"Label\")\n",
        "plt.xticks(rotation=90)\n",
        "plt.ylabel(\"Count\")\n",
        "plt.show()"
      ]
    },
    {
      "cell_type": "markdown",
      "id": "a404d3cc",
      "metadata": {
        "id": "a404d3cc"
      },
      "source": [
        "Como os dados do label são categóricos, para o pré-processamento será necessário utilizar o `OrdinalEncoder` do scikit-learn ou similar."
      ]
    },
    {
      "cell_type": "markdown",
      "id": "6545d04c",
      "metadata": {
        "id": "6545d04c"
      },
      "source": [
        "## Análise das Features"
      ]
    },
    {
      "cell_type": "markdown",
      "id": "5ea661c1",
      "metadata": {
        "id": "5ea661c1"
      },
      "source": [
        "Para as análises das features, será realizado o encoding das variáveis categóricas para que seja possível realizar análises de correlação, distribuição, etc.\n",
        "\n",
        "- Para as features de frequência (YES|NO), os dados serão convertidos em valores binários 0 e 1\n",
        "- Para a feature bass_pitch será atribuido um valor ordinal para cada uma dos 16 possíveis valores\n",
        "- A feature meter não sofrerá alteração pois já está no formato `int`\n",
        "- Será feito um encoding do target para um valor ordinal para cada um dos 102 possíveis valores."
      ]
    },
    {
      "cell_type": "code",
      "execution_count": 11,
      "id": "0c1f63c7",
      "metadata": {
        "id": "0c1f63c7"
      },
      "outputs": [],
      "source": [
        "encoder = OrdinalEncoder()"
      ]
    },
    {
      "cell_type": "code",
      "execution_count": 12,
      "id": "8667416f",
      "metadata": {
        "id": "8667416f"
      },
      "outputs": [],
      "source": [
        "encoded_df = pd.DataFrame(encoder.fit_transform(df),columns=feature_cols+['label'])"
      ]
    },
    {
      "cell_type": "code",
      "execution_count": 13,
      "id": "ea0d0553",
      "metadata": {
        "id": "ea0d0553",
        "outputId": "128ed8b1-211c-4e7d-ec4e-a0b01951bd0e",
        "colab": {
          "base_uri": "https://localhost:8080/",
          "height": 250
        }
      },
      "outputs": [
        {
          "output_type": "execute_result",
          "data": {
            "text/plain": [
              "     3    4    5    6    7    8    9   10   11   12   13   14  bass_pitch  \\\n",
              "0  1.0  0.0  0.0  0.0  0.0  1.0  0.0  0.0  0.0  1.0  0.0  0.0        12.0   \n",
              "1  1.0  0.0  0.0  0.0  1.0  0.0  0.0  1.0  0.0  0.0  0.0  0.0        10.0   \n",
              "2  1.0  0.0  0.0  0.0  1.0  0.0  0.0  1.0  0.0  0.0  0.0  0.0        10.0   \n",
              "3  1.0  0.0  0.0  0.0  0.0  1.0  0.0  0.0  0.0  1.0  0.0  0.0        12.0   \n",
              "4  1.0  0.0  0.0  0.0  0.0  1.0  0.0  0.0  0.0  1.0  0.0  0.0        12.0   \n",
              "\n",
              "   meter  label  \n",
              "0    2.0   81.0  \n",
              "1    4.0   35.0  \n",
              "2    1.0   35.0  \n",
              "3    2.0   81.0  \n",
              "4    1.0   81.0  "
            ],
            "text/html": [
              "\n",
              "  <div id=\"df-e2b1cc2e-bcf3-431b-a52a-ad32c223741d\">\n",
              "    <div class=\"colab-df-container\">\n",
              "      <div>\n",
              "<style scoped>\n",
              "    .dataframe tbody tr th:only-of-type {\n",
              "        vertical-align: middle;\n",
              "    }\n",
              "\n",
              "    .dataframe tbody tr th {\n",
              "        vertical-align: top;\n",
              "    }\n",
              "\n",
              "    .dataframe thead th {\n",
              "        text-align: right;\n",
              "    }\n",
              "</style>\n",
              "<table border=\"1\" class=\"dataframe\">\n",
              "  <thead>\n",
              "    <tr style=\"text-align: right;\">\n",
              "      <th></th>\n",
              "      <th>3</th>\n",
              "      <th>4</th>\n",
              "      <th>5</th>\n",
              "      <th>6</th>\n",
              "      <th>7</th>\n",
              "      <th>8</th>\n",
              "      <th>9</th>\n",
              "      <th>10</th>\n",
              "      <th>11</th>\n",
              "      <th>12</th>\n",
              "      <th>13</th>\n",
              "      <th>14</th>\n",
              "      <th>bass_pitch</th>\n",
              "      <th>meter</th>\n",
              "      <th>label</th>\n",
              "    </tr>\n",
              "  </thead>\n",
              "  <tbody>\n",
              "    <tr>\n",
              "      <th>0</th>\n",
              "      <td>1.0</td>\n",
              "      <td>0.0</td>\n",
              "      <td>0.0</td>\n",
              "      <td>0.0</td>\n",
              "      <td>0.0</td>\n",
              "      <td>1.0</td>\n",
              "      <td>0.0</td>\n",
              "      <td>0.0</td>\n",
              "      <td>0.0</td>\n",
              "      <td>1.0</td>\n",
              "      <td>0.0</td>\n",
              "      <td>0.0</td>\n",
              "      <td>12.0</td>\n",
              "      <td>2.0</td>\n",
              "      <td>81.0</td>\n",
              "    </tr>\n",
              "    <tr>\n",
              "      <th>1</th>\n",
              "      <td>1.0</td>\n",
              "      <td>0.0</td>\n",
              "      <td>0.0</td>\n",
              "      <td>0.0</td>\n",
              "      <td>1.0</td>\n",
              "      <td>0.0</td>\n",
              "      <td>0.0</td>\n",
              "      <td>1.0</td>\n",
              "      <td>0.0</td>\n",
              "      <td>0.0</td>\n",
              "      <td>0.0</td>\n",
              "      <td>0.0</td>\n",
              "      <td>10.0</td>\n",
              "      <td>4.0</td>\n",
              "      <td>35.0</td>\n",
              "    </tr>\n",
              "    <tr>\n",
              "      <th>2</th>\n",
              "      <td>1.0</td>\n",
              "      <td>0.0</td>\n",
              "      <td>0.0</td>\n",
              "      <td>0.0</td>\n",
              "      <td>1.0</td>\n",
              "      <td>0.0</td>\n",
              "      <td>0.0</td>\n",
              "      <td>1.0</td>\n",
              "      <td>0.0</td>\n",
              "      <td>0.0</td>\n",
              "      <td>0.0</td>\n",
              "      <td>0.0</td>\n",
              "      <td>10.0</td>\n",
              "      <td>1.0</td>\n",
              "      <td>35.0</td>\n",
              "    </tr>\n",
              "    <tr>\n",
              "      <th>3</th>\n",
              "      <td>1.0</td>\n",
              "      <td>0.0</td>\n",
              "      <td>0.0</td>\n",
              "      <td>0.0</td>\n",
              "      <td>0.0</td>\n",
              "      <td>1.0</td>\n",
              "      <td>0.0</td>\n",
              "      <td>0.0</td>\n",
              "      <td>0.0</td>\n",
              "      <td>1.0</td>\n",
              "      <td>0.0</td>\n",
              "      <td>0.0</td>\n",
              "      <td>12.0</td>\n",
              "      <td>2.0</td>\n",
              "      <td>81.0</td>\n",
              "    </tr>\n",
              "    <tr>\n",
              "      <th>4</th>\n",
              "      <td>1.0</td>\n",
              "      <td>0.0</td>\n",
              "      <td>0.0</td>\n",
              "      <td>0.0</td>\n",
              "      <td>0.0</td>\n",
              "      <td>1.0</td>\n",
              "      <td>0.0</td>\n",
              "      <td>0.0</td>\n",
              "      <td>0.0</td>\n",
              "      <td>1.0</td>\n",
              "      <td>0.0</td>\n",
              "      <td>0.0</td>\n",
              "      <td>12.0</td>\n",
              "      <td>1.0</td>\n",
              "      <td>81.0</td>\n",
              "    </tr>\n",
              "  </tbody>\n",
              "</table>\n",
              "</div>\n",
              "      <button class=\"colab-df-convert\" onclick=\"convertToInteractive('df-e2b1cc2e-bcf3-431b-a52a-ad32c223741d')\"\n",
              "              title=\"Convert this dataframe to an interactive table.\"\n",
              "              style=\"display:none;\">\n",
              "        \n",
              "  <svg xmlns=\"http://www.w3.org/2000/svg\" height=\"24px\"viewBox=\"0 0 24 24\"\n",
              "       width=\"24px\">\n",
              "    <path d=\"M0 0h24v24H0V0z\" fill=\"none\"/>\n",
              "    <path d=\"M18.56 5.44l.94 2.06.94-2.06 2.06-.94-2.06-.94-.94-2.06-.94 2.06-2.06.94zm-11 1L8.5 8.5l.94-2.06 2.06-.94-2.06-.94L8.5 2.5l-.94 2.06-2.06.94zm10 10l.94 2.06.94-2.06 2.06-.94-2.06-.94-.94-2.06-.94 2.06-2.06.94z\"/><path d=\"M17.41 7.96l-1.37-1.37c-.4-.4-.92-.59-1.43-.59-.52 0-1.04.2-1.43.59L10.3 9.45l-7.72 7.72c-.78.78-.78 2.05 0 2.83L4 21.41c.39.39.9.59 1.41.59.51 0 1.02-.2 1.41-.59l7.78-7.78 2.81-2.81c.8-.78.8-2.07 0-2.86zM5.41 20L4 18.59l7.72-7.72 1.47 1.35L5.41 20z\"/>\n",
              "  </svg>\n",
              "      </button>\n",
              "      \n",
              "  <style>\n",
              "    .colab-df-container {\n",
              "      display:flex;\n",
              "      flex-wrap:wrap;\n",
              "      gap: 12px;\n",
              "    }\n",
              "\n",
              "    .colab-df-convert {\n",
              "      background-color: #E8F0FE;\n",
              "      border: none;\n",
              "      border-radius: 50%;\n",
              "      cursor: pointer;\n",
              "      display: none;\n",
              "      fill: #1967D2;\n",
              "      height: 32px;\n",
              "      padding: 0 0 0 0;\n",
              "      width: 32px;\n",
              "    }\n",
              "\n",
              "    .colab-df-convert:hover {\n",
              "      background-color: #E2EBFA;\n",
              "      box-shadow: 0px 1px 2px rgba(60, 64, 67, 0.3), 0px 1px 3px 1px rgba(60, 64, 67, 0.15);\n",
              "      fill: #174EA6;\n",
              "    }\n",
              "\n",
              "    [theme=dark] .colab-df-convert {\n",
              "      background-color: #3B4455;\n",
              "      fill: #D2E3FC;\n",
              "    }\n",
              "\n",
              "    [theme=dark] .colab-df-convert:hover {\n",
              "      background-color: #434B5C;\n",
              "      box-shadow: 0px 1px 3px 1px rgba(0, 0, 0, 0.15);\n",
              "      filter: drop-shadow(0px 1px 2px rgba(0, 0, 0, 0.3));\n",
              "      fill: #FFFFFF;\n",
              "    }\n",
              "  </style>\n",
              "\n",
              "      <script>\n",
              "        const buttonEl =\n",
              "          document.querySelector('#df-e2b1cc2e-bcf3-431b-a52a-ad32c223741d button.colab-df-convert');\n",
              "        buttonEl.style.display =\n",
              "          google.colab.kernel.accessAllowed ? 'block' : 'none';\n",
              "\n",
              "        async function convertToInteractive(key) {\n",
              "          const element = document.querySelector('#df-e2b1cc2e-bcf3-431b-a52a-ad32c223741d');\n",
              "          const dataTable =\n",
              "            await google.colab.kernel.invokeFunction('convertToInteractive',\n",
              "                                                     [key], {});\n",
              "          if (!dataTable) return;\n",
              "\n",
              "          const docLinkHtml = 'Like what you see? Visit the ' +\n",
              "            '<a target=\"_blank\" href=https://colab.research.google.com/notebooks/data_table.ipynb>data table notebook</a>'\n",
              "            + ' to learn more about interactive tables.';\n",
              "          element.innerHTML = '';\n",
              "          dataTable['output_type'] = 'display_data';\n",
              "          await google.colab.output.renderOutput(dataTable, element);\n",
              "          const docLink = document.createElement('div');\n",
              "          docLink.innerHTML = docLinkHtml;\n",
              "          element.appendChild(docLink);\n",
              "        }\n",
              "      </script>\n",
              "    </div>\n",
              "  </div>\n",
              "  "
            ]
          },
          "metadata": {},
          "execution_count": 13
        }
      ],
      "source": [
        "encoded_df.head()"
      ]
    },
    {
      "cell_type": "code",
      "execution_count": 14,
      "id": "9b59a797",
      "metadata": {
        "id": "9b59a797",
        "outputId": "34c8d3d7-6e67-4896-b2c6-98f78d9f0166",
        "colab": {
          "base_uri": "https://localhost:8080/",
          "height": 969
        }
      },
      "outputs": [
        {
          "output_type": "execute_result",
          "data": {
            "text/plain": [
              "array([[<matplotlib.axes._subplots.AxesSubplot object at 0x7f581885ba50>,\n",
              "        <matplotlib.axes._subplots.AxesSubplot object at 0x7f58187efc90>,\n",
              "        <matplotlib.axes._subplots.AxesSubplot object at 0x7f581881e290>,\n",
              "        <matplotlib.axes._subplots.AxesSubplot object at 0x7f58187d5890>],\n",
              "       [<matplotlib.axes._subplots.AxesSubplot object at 0x7f581878be90>,\n",
              "        <matplotlib.axes._subplots.AxesSubplot object at 0x7f581874e4d0>,\n",
              "        <matplotlib.axes._subplots.AxesSubplot object at 0x7f5818711f90>,\n",
              "        <matplotlib.axes._subplots.AxesSubplot object at 0x7f58186cb110>],\n",
              "       [<matplotlib.axes._subplots.AxesSubplot object at 0x7f58186d5610>,\n",
              "        <matplotlib.axes._subplots.AxesSubplot object at 0x7f5818688c90>,\n",
              "        <matplotlib.axes._subplots.AxesSubplot object at 0x7f58185fc350>,\n",
              "        <matplotlib.axes._subplots.AxesSubplot object at 0x7f58185b1950>],\n",
              "       [<matplotlib.axes._subplots.AxesSubplot object at 0x7f5818567f90>,\n",
              "        <matplotlib.axes._subplots.AxesSubplot object at 0x7f581852a4d0>,\n",
              "        <matplotlib.axes._subplots.AxesSubplot object at 0x7f58185629d0>,\n",
              "        <matplotlib.axes._subplots.AxesSubplot object at 0x7f5818518ed0>]],\n",
              "      dtype=object)"
            ]
          },
          "metadata": {},
          "execution_count": 14
        },
        {
          "output_type": "display_data",
          "data": {
            "text/plain": [
              "<Figure size 1008x1008 with 16 Axes>"
            ],
            "image/png": "[encoded data removed]"
          },
          "metadata": {}
        }
      ],
      "source": [
        "encoded_df.hist(figsize=(14,14))"
      ]
    }
  ],
  "metadata": {
    "kernelspec": {
      "display_name": "Python 3 (ipykernel)",
      "language": "python",
      "name": "python3"
    },
    "language_info": {
      "codemirror_mode": {
        "name": "ipython",
        "version": 3
      },
      "file_extension": ".py",
      "mimetype": "text/x-python",
      "name": "python",
      "nbconvert_exporter": "python",
      "pygments_lexer": "ipython3",
      "version": "3.10.6"
    },
    "colab": {
      "provenance": [],
      "include_colab_link": true
    }
  },
  "nbformat": 4,
  "nbformat_minor": 5
}